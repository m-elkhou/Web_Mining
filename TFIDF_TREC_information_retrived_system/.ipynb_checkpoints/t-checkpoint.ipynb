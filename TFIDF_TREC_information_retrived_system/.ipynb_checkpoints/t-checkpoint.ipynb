{
 "cells": [
  {
   "cell_type": "markdown",
   "metadata": {},
   "source": [
    "\n",
    "# Web Mining - TP2 : \n",
    "\n",
    "## Objectif : \n",
    "\n",
    "\n",
    "***\n",
    "\n",
    "\n",
    "## Importation des libraires :"
   ]
  },
  {
   "cell_type": "code",
   "execution_count": 1,
   "metadata": {},
   "outputs": [
    {
     "name": "stderr",
     "output_type": "stream",
     "text": [
      "[nltk_data] Error loading wordnet: <urlopen error [Errno 11001]\n",
      "[nltk_data]     getaddrinfo failed>\n"
     ]
    }
   ],
   "source": [
    "import numpy as np\n",
    "import pandas as pd\n",
    "import re\n",
    "\n",
    "import gensim\n",
    "from gensim import corpora, models, similarities\n",
    "from gensim.parsing.preprocessing import STOPWORDS\n",
    "\n",
    "import nltk\n",
    "nltk.download('wordnet')\n",
    "from nltk.corpus import stopwords\n",
    "from nltk.stem import WordNetLemmatizer, SnowballStemmer, PorterStemmer\n",
    "# from nltk.stem.porter import PorterStemmer\n",
    "# from nltk.stem.wordnet import WordNetLemmatizer"
   ]
  },
  {
   "cell_type": "code",
   "execution_count": 2,
   "metadata": {},
   "outputs": [],
   "source": [
    "home = \"D:/WISD/S3/Web_Mining/trec/\"\n",
    "dataset = home + \"cran/cran.all.1400\""
   ]
  },
  {
   "cell_type": "markdown",
   "metadata": {},
   "source": [
    "## Importez les données depuis un fichier"
   ]
  },
  {
   "cell_type": "code",
   "execution_count": 3,
   "metadata": {},
   "outputs": [
    {
     "name": "stdout",
     "output_type": "stream",
     "text": [
      "# Nombre de documents :  1400\n"
     ]
    },
    {
     "data": {
      "text/html": [
       "<div>\n",
       "<style scoped>\n",
       "    .dataframe tbody tr th:only-of-type {\n",
       "        vertical-align: middle;\n",
       "    }\n",
       "\n",
       "    .dataframe tbody tr th {\n",
       "        vertical-align: top;\n",
       "    }\n",
       "\n",
       "    .dataframe thead th {\n",
       "        text-align: right;\n",
       "    }\n",
       "</style>\n",
       "<table border=\"1\" class=\"dataframe\">\n",
       "  <thead>\n",
       "    <tr style=\"text-align: right;\">\n",
       "      <th></th>\n",
       "      <th>title</th>\n",
       "      <th>document</th>\n",
       "    </tr>\n",
       "  </thead>\n",
       "  <tbody>\n",
       "    <tr>\n",
       "      <th>0</th>\n",
       "      <td>experimental investigation of the aerodynamics...</td>\n",
       "      <td>experimental investigation of the aerodynamics...</td>\n",
       "    </tr>\n",
       "    <tr>\n",
       "      <th>1</th>\n",
       "      <td>simple shear flow past a flat plate in an inco...</td>\n",
       "      <td>simple shear flow past a flat plate in an inco...</td>\n",
       "    </tr>\n",
       "    <tr>\n",
       "      <th>2</th>\n",
       "      <td>the boundary layer in simple shear flow past a...</td>\n",
       "      <td>the boundary layer in simple shear flow past a...</td>\n",
       "    </tr>\n",
       "    <tr>\n",
       "      <th>3</th>\n",
       "      <td>approximate solutions of the incompressible la...</td>\n",
       "      <td>approximate solutions of the incompressible la...</td>\n",
       "    </tr>\n",
       "    <tr>\n",
       "      <th>4</th>\n",
       "      <td>one-dimensional transient heat conduction into...</td>\n",
       "      <td>one-dimensional transient heat conduction into...</td>\n",
       "    </tr>\n",
       "  </tbody>\n",
       "</table>\n",
       "</div>"
      ],
      "text/plain": [
       "                                               title  \\\n",
       "0  experimental investigation of the aerodynamics...   \n",
       "1  simple shear flow past a flat plate in an inco...   \n",
       "2  the boundary layer in simple shear flow past a...   \n",
       "3  approximate solutions of the incompressible la...   \n",
       "4  one-dimensional transient heat conduction into...   \n",
       "\n",
       "                                            document  \n",
       "0  experimental investigation of the aerodynamics...  \n",
       "1  simple shear flow past a flat plate in an inco...  \n",
       "2  the boundary layer in simple shear flow past a...  \n",
       "3  approximate solutions of the incompressible la...  \n",
       "4  one-dimensional transient heat conduction into...  "
      ]
     },
     "execution_count": 3,
     "metadata": {},
     "output_type": "execute_result"
    }
   ],
   "source": [
    "with open(dataset, \"r\") as file:\n",
    "    data = file.read()\n",
    "\n",
    "docs = data.split(r'.I ')\n",
    "\n",
    "titles = []\n",
    "documents = []\n",
    "for doc in docs:\n",
    "    if not doc:\n",
    "        continue\n",
    "    titles.append( doc.split(r'.T')[1].split(r'.A')[0][1:] )\n",
    "    documents.append( doc.split(r'.W')[1][1:] )\n",
    "\n",
    "df = pd.DataFrame({'title': titles , 'document' : documents})\n",
    "\n",
    "\n",
    "print(\"# Nombre de documents : \", len(df))\n",
    "df.head()\n"
   ]
  },
  {
   "cell_type": "markdown",
   "metadata": {},
   "source": [
    "## Data Pre-processing\n",
    "\n",
    "We will perform the following steps:\n",
    "\n",
    "- Tokenization: Split the text into sentences and the sentences into words. Lowercase the words and remove punctuation.\n",
    "- Words that have fewer than 3 characters are removed.\n",
    "- All stopwords are removed.\n",
    "- Words are lemmatized — words in third person are changed to first person and verbs in past and future tenses are changed into present.\n",
    "- Words are stemmed — words are reduced to their root form.\n"
   ]
  },
  {
   "cell_type": "markdown",
   "metadata": {},
   "source": [
    "### **Write a function to perform lemmatize and stem preprocessing steps on the data set.**"
   ]
  },
  {
   "cell_type": "code",
   "execution_count": 4,
   "metadata": {},
   "outputs": [],
   "source": [
    "stop_words = stopwords.words('english')\n",
    "stop_words.extend(stopwords.words('french'))\n",
    "# stop_words.extend(stopwords.words('arabic'))\n",
    "stop_words.extend(gensim.parsing.preprocessing.STOPWORDS)\n",
    "stop_words.extend(['tout','le','la'])\n",
    "stop_words = set(stop_words)\n",
    "\n",
    "stemmer = PorterStemmer()\n",
    "lmtzr = WordNetLemmatizer()\n",
    "\n",
    "def lemmatize_stemming(text):\n",
    "    return stemmer.stem(lmtzr.lemmatize(text, pos='v'))\n",
    "\n",
    "def preprocess( text):\n",
    "     #delete all non words exept html tags\n",
    "    text = re.sub('[^\\w<>]',' ',text)\n",
    "    #delete javascript tags\n",
    "    text =re.sub('< script*>.*?< script*>',' ',text)\n",
    "    #delete all html tags\n",
    "    text = re.sub('<.*?>',' ',text)\n",
    "    #delete numbers \n",
    "    text = re.sub(\"[0-9><,]+\",\" \",text)\n",
    "    #delete reteur a la ligne\n",
    "    text = re.sub(r\"\\n+\",\" \",text)\n",
    "    #replace multiple spaces with one space\n",
    "    text = re.sub(r\"\\s+\",\" \",text)\n",
    "    #transfer text to lowercase\n",
    "    text = text.lower() \n",
    "    # tokenaze text\n",
    "    tokens = re.split(\" \", text)\n",
    "\n",
    "    # Remove stop words \n",
    "#     stop_words = stopwords.words('english')\n",
    "#     result = [word for word in tokens if word not in stop_words and word]\n",
    "\n",
    "    result = []\n",
    "    for token in tokens :\n",
    "        if token not in stop_words and len(token) > 1:\n",
    "            result.append(lemmatize_stemming(token))\n",
    "    return result\n",
    "\n",
    "tokens = []\n",
    "for doc in documents:\n",
    "    tokens.append(preprocess(doc))\n",
    "\n",
    "# tokens[1]"
   ]
  },
  {
   "cell_type": "code",
   "execution_count": 5,
   "metadata": {},
   "outputs": [
    {
     "name": "stdout",
     "output_type": "stream",
     "text": [
      "Dictionary(4111 unique tokens: ['aerodynam', 'agre', 'angl', 'attack', 'basi']...)\n",
      "4111\n",
      "1400\n"
     ]
    }
   ],
   "source": [
    "dictionary = corpora.Dictionary(tokens)\n",
    "print(dictionary)\n",
    "print(len(dictionary))\n",
    "print(dictionary.num_docs)"
   ]
  },
  {
   "cell_type": "markdown",
   "metadata": {},
   "source": [
    "As it says the dictionary has 6926 unique tokens (or words). Let’s see the unique ids for each of these tokens."
   ]
  },
  {
   "cell_type": "code",
   "execution_count": 6,
   "metadata": {},
   "outputs": [
    {
     "name": "stdout",
     "output_type": "stream",
     "text": [
      "{'aerodynam': 0, 'agre': 1, 'angl': 2, 'attack': 3, 'basi': 4, 'boundari': 5, 'compar': 6, 'configur': 7, 'control': 8, 'curv': 9, 'destal': 10, 'determin': 11, 'differ': 12, 'distribut': 13, 'effect': 14, 'empir': 15, 'evalu': 16, 'evid': 17, 'experi': 18, 'experiment': 19, 'flow': 20, 'free': 21, 'increas': 22, 'increment': 23, 'integr': 24, 'intend': 25, 'investig': 26, 'layer': 27, 'lift': 28, 'load': 29, 'order': 30, 'potenti': 31, 'problem': 32, 'produc': 33, 'propel': 34, 'ratio': 35, 'remain': 36, 'result': 37, 'show': 38, 'slipstream': 39, 'span': 40, 'spanwis': 41, 'specif': 42, 'stream': 43, 'studi': 44, 'substanti': 45, 'subtract': 46, 'support': 47, 'theoret': 48, 'theori': 49, 'treatment': 50, 'veloc': 51, 'wing': 52, 'approxim': 53, 'aris': 54, 'bodi': 55, 'classic': 56, 'consequ': 57, 'consid': 58, 'constant': 59, 'dimension': 60, 'discuss': 61, 'edg': 62, 'emit': 63, 'exist': 64, 'featur': 65, 'ferri': 66, 'flat': 67, 'fluid': 68, 'high': 69, 'hyperson': 70, 'incompress': 71, 'instanc': 72, 'inviscid': 73, 'irrot': 74, 'lead': 75, 'libbi': 76, 'necessari': 77, 'nose': 78, 'novel': 79, 'origin': 80, 'outsid': 81, 'paper': 82, 'past': 83, 'plate': 84, 'possibl': 85, 'prandtl': 86, 'present': 87, 'recent': 88, 'region': 89, 'restrict': 90, 'rotat': 91, 'shear': 92, 'shock': 93, 'simpl': 94, 'situat': 95, 'small': 96, 'somewhat': 97, 'speed': 98, 'steadi': 99, 'treat': 100, 'usual': 101, 'viscos': 102, 'viscou': 103, 'vortic': 104, 'wave': 105, 'equat': 106, 'gradient': 107, 'pressur': 108, 'comparison': 109, 'friction': 110, 'karman': 111, 'laminar': 112, 'obtain': 113, 'pohlhausen': 114, 'skin': 115, 'solut': 116, 'techniqu': 117, 'thick': 118, 'uniform': 119, 'analyt': 120, 'composit': 121, 'conduct': 122, 'doubl': 123, 'exampl': 124, 'expos': 125, 'heat': 126, 'input': 127, 'intern': 128, 'linear': 129, 'occur': 130, 'rate': 131, 'slab': 132, 'subject': 133, 'surfac': 134, 'time': 135, 'transient': 136, 'triangular': 137, 'type': 138, 'briefli': 139, 'case': 140, 'contribut': 141, 'durat': 142, 'face': 143, 'forum': 144, 'gener': 145, 'give': 146, 'incomplet': 147, 'indic': 148, 'insul': 149, 'interfac': 150, 'longer': 151, 'method': 152, 'multilay': 153, 'particular': 154, 'point': 155, 'propos': 156, 'reader': 157, 'refer': 158, 'resist': 159, 'temperatur': 160, 'thermal': 161, 'wassermann': 162, 'appear': 163, 'begin': 164, 'break': 165, 'breakdown': 166, 'california': 167, 'contamin': 168, 'element': 169, 'ensu': 170, 'field': 171, 'fourth': 172, 'height': 173, 'inch': 174, 'induc': 175, 'initi': 176, 'institut': 177, 'jet': 178, 'kinemat': 179, 'laboratori': 180, 'later': 181, 'littl': 182, 'local': 183, 'mach': 184, 'number': 185, 'outer': 186, 'perform': 187, 'persist': 188, 'posit': 189, 'power': 190, 'propuls': 191, 'rel': 192, 'reynold': 193, 'rough': 194, 'row': 195, 'size': 196, 'space': 197, 'sphere': 198, 'spiral': 199, 'strength': 200, 'sublay': 201, 'suddenli': 202, 'superson': 203, 'surround': 204, 'tain': 205, 'technolog': 206, 'trail': 207, 'transit': 208, 'trip': 209, 'tunnel': 210, 'turbul': 211, 'vari': 212, 'violent': 213, 'viz': 214, 'wind': 215, 'addit': 216, 'avail': 217, 'base': 218, 'behav': 219, 'bureau': 220, 'cours': 221, 'data': 222, 'desir': 223, 'displac': 224, 'distanc': 225, 'dryden': 226, 'extend': 227, 'function': 228, 'higher': 229, 'measur': 230, 'nation': 231, 'primarili': 232, 'rang': 233, 'reason': 234, 'relat': 235, 'repres': 236, 'standard': 237, 'suggest': 238, 'term': 239, 'valu': 240, 'way': 241, 'wire': 242, 'agreement': 243, 'air': 244, 'caus': 245, 'coeffici': 246, 'complet': 247, 'degre': 248, 'detect': 249, 'develop': 250, 'direct': 251, 'disturb': 252, 'downstream': 253, 'earlier': 254, 'emphasi': 255, 'extens': 256, 'far': 257, 'float': 258, 'fulli': 259, 'galcit': 260, 'good': 261, 'greater': 262, 'hasten': 263, 'head': 264, 'inject': 265, 'lacquer': 266, 'low': 267, 'lower': 268, 'mean': 269, 'nomin': 270, 'onset': 271, 'phosphoresc': 272, 'pitot': 273, 'qualit': 274, 'rake': 275, 'regardless': 276, 'sidewal': 277, 'spread': 278, 'stabil': 279, 'survey': 280, 'total': 281, 'transvers': 282, 'verifi': 283, 'analysi': 284, 'appreci': 285, 'continuum': 286, 'correspond': 287, 'densiti': 288, 'extrem': 289, 'impact': 290, 'tube': 291, 'axial': 292, 'brooklyn': 293, 'carri': 294, 'characterist': 295, 'cite': 296, 'compress': 297, 'devic': 298, 'influenc': 299, 'interact': 300, 'major': 301, 'mix': 302, 'phenomena': 303, 'place': 304, 'polytechn': 305, 'practic': 306, 'presenc': 307, 'program': 308, 'research': 309, 'significantli': 310, 'similar': 311, 'stagnat': 312, 'take': 313, 'acrothermoelast': 314, 'aerelast': 315, 'aeroelast': 316, 'aeronaut': 317, 'aircraft': 318, 'allevi': 319, 'art': 320, 'avenu': 321, 'combin': 322, 'concern': 323, 'consider': 324, 'demand': 325, 'design': 326, 'domin': 327, 'engin': 328, 'factor': 329, 'failur': 330, 'final': 331, 'flight': 332, 'fundament': 333, 'interrel': 334, 'larg': 335, 'matter': 336, 'meet': 337, 'mode': 338, 'respect': 339, 'state': 340, 'structur': 341, 'summar': 342, 'summari': 343, 'tool': 344, 'transfer': 345, 'analog': 346, 'applic': 347, 'box': 348, 'calcul': 349, 'call': 350, 'complic': 351, 'concept': 352, 'differenti': 353, 'fact': 354, 'feedback': 355, 'forc': 356, 'involv': 357, 'isotherm': 358, 'law': 359, 'modif': 360, 'proper': 361, 'seri': 362, 'solid': 363, 'solv': 364, 'strain': 365, 'stress': 366, 'unheat': 367, 'achiev': 368, 'ackeret': 369, 'aeroelastician': 370, 'airfoil': 371, 'amount': 372, 'analys': 373, 'analyz': 374, 'area': 375, 'assum': 376, 'bend': 377, 'certain': 378, 'close': 379, 'collect': 380, 'complex': 381, 'compon': 382, 'comput': 383, 'demonstr': 384, 'describ': 385, 'discoveri': 386, 'eigenvalu': 387, 'elast': 388, 'elementari': 389, 'essenti': 390, 'estim': 391, 'exact': 392, 'expans': 393, 'extent': 394, 'fairli': 395, 'finit': 396, 'flutter': 397, 'form': 398, 'formula': 399, 'futur': 400, 'grow': 401, 'gust': 402, 'hay': 403, 'illustr': 404, 'import': 405, 'imposs': 406, 'improv': 407, 'includ': 408, 'increasingli': 409, 'introduct': 410, 'invers': 411, 'iter': 412, 'know': 413, 'labor': 414, 'landahl': 415, 'larger': 416, 'lighthil': 417, 'logic': 418, 'loss': 419, 'maneuv': 420, 'minimum': 421, 'model': 422, 'motion': 423, 'neglect': 424, 'neglig': 425, 'new': 426, 'nonlinear': 427, 'normal': 428, 'outlin': 429, 'panel': 430, 'physic': 431, 'piston': 432, 'precis': 433, 'predict': 434, 'procedur': 435, 'profil': 436, 'properti': 437, 'rapid': 438, 'reduc': 439, 'relationship': 440, 'respons': 441, 'review': 442, 'section': 443, 'shape': 444, 'simplif': 445, 'slight': 446, 'success': 447, 'systemat': 448, 'thermoelast': 449, 'torsion': 450, 'typic': 451, 'unsteadi': 452, 'use': 453, 'util': 454, 'zone': 455, 'amplitud': 456, 'author': 457, 'avoid': 458, 'buckl': 459, 'condit': 460, 'confirm': 461, 'constraint': 462, 'critic': 463, 'deviat': 464, 'formul': 465, 'galerkin': 466, 'limit': 467, 'matrix': 468, 'numer': 469, 'question': 470, 'rais': 471, 'rigid': 472, 'static': 473, 'unbuckl': 474, 'appar': 475, 'associ': 476, 'equival': 477, 'explicit': 478, 'fluctuat': 479, 'independ': 480, 'invari': 481, 'key': 482, 'mass': 483, 'postul': 484, 'preserv': 485, 'report': 486, 'requir': 487, 'rise': 488, 'self': 489, 'separ': 490, 'stewartson': 491, 'transform': 492, 'appli': 493, 'assumpt': 494, 'axisymmetr': 495, 'compani': 496, 'connect': 497, 'divis': 498, 'eddi': 499, 'electr': 500, 'establish': 501, 'infinitesim': 502, 'lack': 503, 'mager': 504, 'missil': 505, 'partial': 506, 'ration': 507, 'remark': 508, 'valid': 509, 'vehicl': 510, 'wake': 511, 'arrang': 512, 'circl': 513, 'circular': 514, 'compressor': 515, 'diffus': 516, 'fig': 517, 'fulfil': 518, 'ga': 519, 'guid': 520, 'impel': 521, 'infin': 522, 'note': 523, 'prescrib': 524, 'radial': 525, 'radiu': 526, 'start': 527, 'vane': 528, 'vector': 529, 'wheel': 530, 'zero': 531, 'approach': 532, 'con': 533, 'conic': 534, 'deriv': 535, 'ellipt': 536, 'symmetri': 537, 'work': 538, 'amr': 539, 'believ': 540, 'blunt': 541, 'correl': 542, 'engag': 543, 'express': 544, 'figur': 545, 'generalis': 546, 'hardwar': 547, 'inclin': 548, 'lee': 549, 'max': 550, 'maximum': 551, 'newtonian': 552, 'paramet': 553, 'rev': 554, 'revert': 555, 'sin': 556, 'subscript': 557, 'superior': 558, 'variat': 559, 'dash': 560, 'impuls': 561, 'infinit': 562, 'perturb': 563, 'slip': 564, 'account': 565, 'aero': 566, 'appropri': 567, 'behavior': 568, 'energi': 569, 'jump': 570, 'june': 571, 'knudsen': 572, 'maslen': 573, 'move': 574, 'path': 575, 'rarefi': 576, 'sci': 577, 'axi': 578, 'blasiu': 579, 'curvatur': 580, 'cylind': 581, 'exterior': 582, 'insensit': 583, 'magnitud': 584, 'parallel': 585, 'plane': 586, 'quantiti': 587, 'recoveri': 588, 'signific': 589, 'accur': 590, 'atom': 591, 'catalyt': 592, 'chemic': 593, 'conclud': 594, 'depend': 595, 'dissoci': 596, 'enter': 597, 'equilibrium': 598, 'exactli': 599, 'extern': 600, 'fast': 601, 'freez': 602, 'interpret': 603, 'introduc': 604, 'lewi': 605, 'near': 606, 'noncatalyt': 607, 'nonequilibrium': 608, 'ordinari': 609, 'proceed': 610, 'provid': 611, 'rat': 612, 'reaction': 613, 'recombin': 614, 'scale': 615, 'set': 616, 'slow': 617, 'slowli': 618, 'thermochem': 619, 'unaffect': 620, 'uniti': 621, 'wall': 622, 'afterbodi': 623, 'blast': 624, 'bogdonoff': 625, 'class': 626, 'contain': 627, 'detail': 628, 'diamet': 629, 'dimens': 630, 'directli': 631, 'drag': 632, 'entir': 633, 'exhibit': 634, 'find': 635, 'forward': 636, 'geometri': 637, 'growth': 638, 'hammitt': 639, 'helium': 640, 'hemispher': 641, 'intens': 642, 'junction': 643, 'lin': 644, 'nearli': 645, 'portion': 646, 'replac': 647, 'revolut': 648, 'right': 649, 'sakurai': 650, 'satisfactori': 651, 'slender': 652, 'taylor': 653, 'va': 654, 'current': 655, 'purpos': 656, 'realiz': 657, 'aerodynamieist': 658, 'aid': 659, 'basic': 660, 'dynam': 661, 'examin': 662, 'fall': 663, 'faster': 664, 'frame': 665, 'view': 666, 'converg': 667, 'difficult': 668, 'einbind': 669, 'expect': 670, 'explos': 671, 'inquir': 672, 'interest': 673, 'mention': 674, 'non': 675, 'nonuniform': 676, 'probstein': 677, 'sedov': 678, 'acceler': 679, 'beam': 680, 'build': 681, 'convect': 682, 'environ': 683, 'flang': 684, 'inform': 685, 'length': 686, 'linearli': 687, 'part': 688, 'period': 689, 'restraint': 690, 'second': 691, 'simul': 692, 'varieti': 693, 'wide': 694, 'biot': 695, 'center': 696, 'dimensionless': 697, 'discrep': 698, 'employ': 699, 'literatur': 700, 'long': 701, 'multiweb': 702, 'observ': 703, 'photo': 704, 'photothermoelast': 705, 'reveal': 706, 'sourc': 707, 'trace': 708, 'web': 709, 'cover': 710, 'criterion': 711, 'multicellular': 712, 'plat': 713, 'allow': 714, 'atmospher': 715, 'ballist': 716, 'damp': 717, 'descend': 718, 'envelop': 719, 'equal': 720, 'graviti': 721, 'manner': 722, 'oscil': 723, 'oscillatori': 724, 'rapidli': 725, 'spring': 726, 'trajectori': 727, 'undamp': 728, 'variabl': 729, 'write': 730, 'accru': 731, 'advantag': 732, 'attract': 733, 'channel': 734, 'chart': 735, 'construct': 736, 'contact': 737, 'deceler': 738, 'electrod': 739, 'gasdynam': 740, 'hydrodynam': 741, 'justifi': 742, 'liquid': 743, 'magnet': 744, 'magneto': 745, 'poiscuil': 746, 'probabl': 747, 'prospect': 748, 'provis': 749, 'pure': 750, 'quasi': 751, 'reduct': 752, 'regim': 753, 'seed': 754, 'subson': 755, 'suffici': 756, 'unsolv': 757, 'algebra': 758, 'continu': 759, 'cool': 760, 'cross': 761, 'duct': 762, 'follow': 763, 'gaseou': 764, 'hand': 765, 'like': 766, 'nontrivi': 767, 'paragraph': 768, 'plasma': 769, 'possess': 770, 'resler': 771, 'sear': 772, 'seek': 773, 'serv': 774, 'simplic': 775, 'sort': 776, 'better': 777, 'conclus': 778, 'detach': 779, 'devis': 780, 'refin': 781, 'slightli': 782, 'symmetr': 783, 'yield': 784, 'extrapol': 785, 'familiar': 786, 'happen': 787, 'inevit': 788, 'need': 789, 'nonvisc': 790, 'open': 791, 'test': 792, 'unfamiliar': 793, 'conjunct': 794, 'convent': 795, 'forebodi': 796, 'furthermor': 797, 'line': 798, 'materi': 799, 'sonic': 800, 'suppli': 801, 'link': 802, 'mechan': 803, 'scheme': 804, 'semiempir': 805, 'transon': 806, 'chang': 807, 'domain': 808, 'pattern': 809, 'quantit': 810, 'reflect': 811, 'slope': 812, 'superimpos': 813, 'uncamb': 814, 'advers': 815, 'cent': 816, 'cone': 817, 'decreas': 818, 'definit': 819, 'delay': 820, 'fix': 821, 'level': 822, 'locat': 823, 'magnifi': 824, 'optic': 825, 'promot': 826, 'schlieren': 827, 'singl': 828, 'smooth': 829, 'anemomet': 830, 'draw': 831, 'fruit': 832, 'hot': 833, 'light': 834, 'moder': 835, 'natur': 836, 'overal': 837, 'princip': 838, 'affect': 839, 'airplan': 840, 'ask': 841, 'cantilev': 842, 'consist': 843, 'coupl': 844, 'deal': 845, 'disc': 846, 'divid': 847, 'end': 848, 'flexibl': 849, 'frequenc': 850, 'gyroscop': 851, 'horizont': 852, 'moment': 853, 'mount': 854, 'photograph': 855, 'pitch': 856, 'play': 857, 'role': 858, 'stiff': 859, 'think': 860, 'tical': 861, 'tip': 862, 'undergo': 863, 'vertic': 864, 'vibrat': 865, 'vibratori': 866, 'whirl': 867, 'yaw': 868, 'ambient': 869, 'argu': 870, 'eter': 871, 'explain': 872, 'opposit': 873, 'phenomenon': 874, 'revers': 875, 'station': 876, 'submit': 877, 'subsequ': 878, 'undisturb': 879, 'act': 880, 'actual': 881, 'benefici': 882, 'blunter': 883, 'characteristi': 884, 'charg': 885, 'conceiv': 886, 'contempl': 887, 'electromagnet': 888, 'excess': 889, 'freedom': 890, 'gupta': 891, 'let': 892, 'magnetohydrodynam': 893, 'mainli': 894, 'necessarili': 895, 'neg': 896, 'obviou': 897, 'porou': 898, 'receiv': 899, 'semi': 900, 'sens': 901, 'spheric': 902, 'standpoint': 903, 'suction': 904, 'tangent': 905, 'unit': 906, 'caviti': 907, 'depth': 908, 'ii': 909, 'momentum': 910, 'notch': 911, 'oncom': 912, 'pictur': 913, 'spark': 914, 'visual': 915, 'attent': 916, 'bring': 917, 'comment': 918, 'hopeless': 919, 'intim': 920, 'journal': 921, 'matric': 922, 'publish': 923, 'shed': 924, 'statement': 925, 'accomplish': 926, 'arbitrari': 927, 'aspect': 928, 'assembl': 929, 'column': 930, 'compat': 931, 'compos': 932, 'deflect': 933, 'fashion': 934, 'favor': 935, 'flexur': 936, 'ideal': 937, 'interconnect': 938, 'member': 939, 'multipl': 940, 'network': 941, 'oper': 942, 'orient': 943, 'permit': 944, 'product': 945, 'squar': 946, 'step': 947, 'unknown': 948, 'entropi': 949, 'meridian': 950, 'tabl': 951, 'tend': 952, 'windward': 953, 'anomali': 954, 'attribut': 955, 'brief': 956, 'crocco': 957, 'customari': 958, 'effort': 959, 'enabl': 960, 'entitl': 961, 'facilit': 962, 'inappropri': 963, 'incorrect': 964, 'infer': 965, 'mathemat': 966, 'net': 967, 'polynomi': 968, 'readili': 969, 'special': 970, 'veiociti': 971, 'hold': 972, 'main': 973, 'simultan': 974, 'sutherland': 975, 'abil': 976, 'angular': 977, 'correctli': 978, 'deform': 979, 'flux': 980, 'withstand': 981, 'camber': 982, 'chord': 983, 'delta': 984, 'previous': 985, 'store': 986, 'sweptback': 987, 'untap': 988, 'accompani': 989, 'adiabat': 990, 'attach': 991, 'cylindr': 992, 'encompass': 993, 'great': 994, 'ogiv': 995, 'reattach': 996, 'reson': 997, 'scope': 998, 'shadowgraph': 999, 'upstream': 1000, 'accuraci': 1001, 'adequ': 1002, 'seventh': 1003, 'short': 1004, 'sixth': 1005, 'proport': 1006, 'defin': 1007, 'fine': 1008, 'make': 1009, 'similarli': 1010, 'tsien': 1011, 'wider': 1012, 'error': 1013, 'ignor': 1014, 'percent': 1015, 'rule': 1016, 'technic': 1017, 'attain': 1018, 'half': 1019, 'immedi': 1020, 'modifi': 1021, 'orific': 1022, 'sharp': 1023, 'tenth': 1024, 'true': 1025, 'width': 1026, 'euler': 1027, 'falkner': 1028, 'imperm': 1029, 'nondimension': 1030, 'nusselt': 1031, 'picard': 1032, 'skan': 1033, 'tabul': 1034, 'ture': 1035, 'uncool': 1036, 'weight': 1037, 'conform': 1038, 'interfer': 1039, 'roll': 1040, 'tail': 1041, 'absolut': 1042, 'admit': 1043, 'exceed': 1044, 'famili': 1045, 'identifi': 1046, 'quot': 1047, 'remaind': 1048, 'twice': 1049, 'uniqu': 1050, 'viscid': 1051, 'chapman': 1052, 'maccol': 1053, 'ramet': 1054, 'rubesin': 1055, 'semivertex': 1056, 'talbot': 1057, 'attenu': 1058, 'imping': 1059, 'incid': 1060, 'isentrop': 1061, 'obliqu': 1062, 'refract': 1063, 'sound': 1064, 'stationari': 1065, 'weak': 1066, 'acoust': 1067, 'fourier': 1068, 'nois': 1069, 'passag': 1070, 'sinusoid': 1071, 'spatial': 1072, 'averag': 1073, 'electron': 1074, 'greatli': 1075, 'interior': 1076, 'joint': 1077, 'peak': 1078, 'stiffen': 1079, 'winglik': 1080, 'ascend': 1081, 'bessel': 1082, 'distinguish': 1083, 'recur': 1084, 'skip': 1085, 'travers': 1086, 'trigonometr': 1087, 'compil': 1088, 'imperfect': 1089, 'medium': 1090, 'capabl': 1091, 'capsul': 1092, 'choos': 1093, 'entri': 1094, 'real': 1095, 'suitabl': 1096, 'volum': 1097, 'chordwis': 1098, 'crest': 1099, 'diverg': 1100, 'divers': 1101, 'glauert': 1102, 'satisfactorili': 1103, 'supercrit': 1104, 'advanc': 1105, 'bound': 1106, 'ident': 1107, 'progress': 1108, 'strong': 1109, 'chief': 1110, 'emphas': 1111, 'encount': 1112, 'gain': 1113, 'govern': 1114, 'rayleigh': 1115, 'sign': 1116, 'simplifi': 1117, 'tietjen': 1118, 'tollmien': 1119, 'vanish': 1120, 'cold': 1121, 'coundari': 1122, 'interferometr': 1123, 'turbulen': 1124, 'common': 1125, 'discret': 1126, 'fatigu': 1127, 'life': 1128, 'particularli': 1129, 'pertain': 1130, 'powerpl': 1131, 'random': 1132, 'regard': 1133, 'altitud': 1134, 'apparatu': 1135, 'fighter': 1136, 'fli': 1137, 'fuselag': 1138, 'longitudin': 1139, 'microphon': 1140, 'output': 1141, 'record': 1142, 'root': 1143, 'unduli': 1144, 'artific': 1145, 'character': 1146, 'compens': 1147, 'convert': 1148, 'coolant': 1149, 'day': 1150, 'disadvantag': 1151, 'earth': 1152, 'effici': 1153, 'except': 1154, 'glide': 1155, 'highest': 1156, 'hyperveloc': 1157, 'keep': 1158, 'kinet': 1159, 'minim': 1160, 'motor': 1161, 'naca': 1162, 'neighborhood': 1163, 'offset': 1164, 'radiant': 1165, 'radiat': 1166, 'return': 1167, 'rocket': 1168, 'senior': 1169, 'tn': 1170, 'unpow': 1171, 'add': 1172, 'airspe': 1173, 'asymmetri': 1174, 'ax': 1175, 'backup': 1176, 'compris': 1177, 'instabl': 1178, 'neutral': 1179, 'plant': 1180, 'precess': 1181, 'sensit': 1182, 'strongli': 1183, 'thrust': 1184, 'trend': 1185, 'disappear': 1186, 'finish': 1187, 'foot': 1188, 'microinch': 1189, 'previou': 1190, 'granular': 1191, 'langley': 1192, 'particl': 1193, 'spot': 1194, 'trigger': 1195, 'coordin': 1196, 'correct': 1197, 'disk': 1198, 'dissip': 1199, 'distort': 1200, 'inaccuraci': 1201, 'torqu': 1202, 'ablat': 1203, 'corollari': 1204, 'disregard': 1205, 'emiss': 1206, 'exert': 1207, 'glass': 1208, 'homogen': 1209, 'hypothet': 1210, 'irbm': 1211, 'melt': 1212, 'monoton': 1213, 'nondecompos': 1214, 'opaqu': 1215, 'penetr': 1216, 'protect': 1217, 'radi': 1218, 'realist': 1219, 'shield': 1220, 'steep': 1221, 'supposedli': 1222, 'activ': 1223, 'arriv': 1224, 'august': 1225, 'be': 1226, 'clearli': 1227, 'cooper': 1228, 'event': 1229, 'flare': 1230, 'forecast': 1231, 'fraction': 1232, 'geophys': 1233, 'hazard': 1234, 'human': 1235, 'identif': 1236, 'igc': 1237, 'igi': 1238, 'juli': 1239, 'lie': 1240, 'man': 1241, 'mev': 1242, 'owe': 1243, 'preliminari': 1244, 'proton': 1245, 'reach': 1246, 'recogn': 1247, 'releas': 1248, 'scientif': 1249, 'sequenc': 1250, 'solar': 1251, 'spectrum': 1252, 'terrestri': 1253, 'understand': 1254, 'unlik': 1255, 'year': 1256, 'centerlin': 1257, 'coaxial': 1258, 'efficaci': 1259, 'plug': 1260, 'prevail': 1261, 'psia': 1262, 'away': 1263, 'core': 1264, 'decay': 1265, 'ft': 1266, 'ioniz': 1267, 'leav': 1268, 'map': 1269, 'process': 1270, 'sec': 1271, 'thermodynam': 1272, 'widen': 1273, 'aerial': 1274, 'augment': 1275, 'grind': 1276, 'hover': 1277, 'insofar': 1278, 'issu': 1279, 'peripher': 1280, 'proxim': 1281, 'buoyant': 1282, 'grashof': 1283, 'hartmann': 1284, 'metal': 1285, 'pipe': 1286, 'submerg': 1287, 'volumetr': 1288, 'ahead': 1289, 'articl': 1290, 'collaps': 1291, 'conserv': 1292, 'cutout': 1293, 'depress': 1294, 'floor': 1295, 'gradual': 1296, 'inner': 1297, 'inward': 1298, 'mutual': 1299, 'pertin': 1300, 'principl': 1301, 'pronounc': 1302, 'protrus': 1303, 'recompress': 1304, 'reli': 1305, 'thicken': 1306, 'throat': 1307, 'barrier': 1308, 'environment': 1309, 'feasibl': 1310, 'grober': 1311, 'ago': 1312, 'capacit': 1313, 'page': 1314, 'perfect': 1315, 'puls': 1316, 'stonecyph': 1317, 'titl': 1318, 'transmiss': 1319, 'capac': 1320, 'cut': 1321, 'desk': 1322, 'difficulti': 1323, 'digit': 1324, 'format': 1325, 'geometr': 1326, 'handl': 1327, 'hopelessli': 1328, 'intersect': 1329, 'irregular': 1330, 'modern': 1331, 'opportun': 1332, 'organ': 1333, 'peculiar': 1334, 'philosophi': 1335, 'plastic': 1336, 'redund': 1337, 'shell': 1338, 'shift': 1339, 'subroutin': 1340, 'system': 1341, 'tediou': 1342, 'urgent': 1343, 'forth': 1344, 'plausibl': 1345, 'simpler': 1346, 'asymptot': 1347, 'busemann': 1348, 'expon': 1349, 'mangler': 1350, 'satisfi': 1351, 'zeroth': 1352, 'cap': 1353, 'graph': 1354, 'hoff': 1355, 'spar': 1356, 'torda': 1357, 'airstream': 1358, 'attempt': 1359, 'especi': 1360, 'foil': 1361, 'plot': 1362, 'reanalysi': 1363, 'reanalyz': 1364, 'represent': 1365, 'rogh': 1366, 'nozzl': 1367, 'overexpand': 1368, 'properli': 1369, 'shockwav': 1370, 'transport': 1371, 'explicitli': 1372, 'von': 1373, 'abl': 1374, 'countri': 1375, 'england': 1376, 'fage': 1377, 'friedman': 1378, 'isotrop': 1379, 'late': 1380, 'object': 1381, 'paramount': 1382, 'simmon': 1383, 'statist': 1384, 'townend': 1385, 'tri': 1386, 'windstream': 1387, 'action': 1388, 'adjac': 1389, 'attend': 1390, 'crew': 1391, 'drastic': 1392, 'easili': 1393, 'hardli': 1394, 'isol': 1395, 'occasion': 1396, 'passeng': 1397, 'physiolog': 1398, 'preponder': 1399, 'psycholog': 1400, 'shorten': 1401, 'transmit': 1402, 'unbal': 1403, 'accept': 1404, 'collis': 1405, 'enthalpi': 1406, 'molecul': 1407, 'schmidt': 1408, 'segment': 1409, 'speci': 1410, 'streamlin': 1411, 'unyaw': 1412, 'classif': 1413, 'burn': 1414, 'butler': 1415, 'extinct': 1416, 'flame': 1417, 'heimel': 1418, 'oppos': 1419, 'potter': 1420, 'premix': 1421, 'induct': 1422, 'nonconduct': 1423, 'perpendicular': 1424, 'retard': 1425, 'log': 1426, 'plan': 1427, 'azimuth': 1428, 'round': 1429, 'adopt': 1430, 'balanc': 1431, 'commonli': 1432, 'branch': 1433, 'confluent': 1434, 'discharg': 1435, 'frequent': 1436, 'hypergeometr': 1437, 'isotop': 1438, 'molecular': 1439, 'protein': 1440, 'prove': 1441, 'sediment': 1442, 'ultracentrifug': 1443, 'danger': 1444, 'grade': 1445, 'grid': 1446, 'impos': 1447, 'inher': 1448, 'insert': 1449, 'rod': 1450, 'secondari': 1451, 'strictli': 1452, 'tendenc': 1453, 'weakli': 1454, 'accord': 1455, 'bluff': 1456, 'bow': 1457, 'centrifug': 1458, 'concentr': 1459, 'deduc': 1460, 'departur': 1461, 'diatom': 1462, 'dismiss': 1463, 'eleg': 1464, 'excit': 1465, 'freeman': 1466, 'lucid': 1467, 'plu': 1468, 'promis': 1469, 'typifi': 1470, 'automat': 1471, 'choleski': 1472, 'goldstein': 1473, 'hartre': 1474, 'neighbourhood': 1475, 'womersley': 1476, 'charact': 1477, 'degener': 1478, 'pip': 1479, 'rectangular': 1480, 'airflow': 1481, 'autocorrel': 1482, 'background': 1483, 'crosscorrel': 1484, 'db': 1485, 'filter': 1486, 'greatest': 1487, 'mask': 1488, 'scan': 1489, 'signal': 1490, 'turn': 1491, 'exponenti': 1492, 'hysteret': 1493, 'lyon': 1494, 'randon': 1495, 'smaller': 1496, 'bear': 1497, 'film': 1498, 'fuller': 1499, 'hypothesi': 1500, 'lubric': 1501, 'smith': 1502, 'hyperbol': 1503, 'mathieu': 1504, 'minor': 1505, 'navier': 1506, 'paraboloid': 1507, 'stoke': 1508, 'substitut': 1509, 'appl': 1510, 'asymmetr': 1511, 'math': 1512, 'meyer': 1513, 'quart': 1514, 'reject': 1515, 'singular': 1516, 'tamada': 1517, 'tomotika': 1518, 'vicin': 1519, 'gorcum': 1520, 'idea': 1521, 'passiv': 1522, 'pole': 1523, 'stratiform': 1524, 'van': 1525, 'furnac': 1526, 'preston': 1527, 'best': 1528, 'isoenerget': 1529, 'merit': 1530, 'stabl': 1531, 'suit': 1532, 'abbrevi': 1533, 'arbitrarili': 1534, 'felt': 1535, 'inconsist': 1536, 'lockhe': 1537, 'nonaxisymmetr': 1538, 'alter': 1539, 'earli': 1540, 'nitrogen': 1541, 'pibal': 1542, 'stand': 1543, 'subtend': 1544, 'apprais': 1545, 'boattail': 1546, 'inadequ': 1547, 'fair': 1548, 'foreign': 1549, 'freon': 1550, 'mark': 1551, 'exploratori': 1552, 'gross': 1553, 'vortex': 1554, 'wedg': 1555, 'contour': 1556, 'elabor': 1557, 'eniac': 1558, 'exit': 1559, 'group': 1560, 'interpol': 1561, 'sampl': 1562, 'shortest': 1563, 'artifici': 1564, 'behaviour': 1565, 'descript': 1566, 'distinct': 1567, 'enclos': 1568, 'laplac': 1569, 'match': 1570, 'regular': 1571, 'resort': 1572, 'uniformli': 1573, 'worth': 1574, 'band': 1575, 'cycl': 1576, 'diagram': 1577, 'doppler': 1578, 'farther': 1579, 'monopol': 1580, 'octav': 1581, 'one': 1582, 'orthogon': 1583, 'predomin': 1584, 'predominantli': 1585, 'quadrupol': 1586, 'hinder': 1587, 'scienc': 1588, 'world': 1589, 'exhaust': 1590, 'instead': 1591, 'reichardt': 1592, 'burger': 1593, 'clear': 1594, 'cole': 1595, 'conflict': 1596, 'discontinu': 1597, 'finest': 1598, 'geoffrey': 1599, 'hopf': 1600, 'inspir': 1601, 'propag': 1602, 'relax': 1603, 'sir': 1604, 'topic': 1605, 'tribut': 1606, 'union': 1607, 'valuabl': 1608, 'whitham': 1609, 'concav': 1610, 'convex': 1611, 'emb': 1612, 'instrument': 1613, 'ludweig': 1614, 'ludwieg': 1615, 'annular': 1616, 'bell': 1617, 'central': 1618, 'expand': 1619, 'outward': 1620, 'blade': 1621, 'feed': 1622, 'implicit': 1623, 'intak': 1624, 'outlet': 1625, 'peopl': 1626, 'stage': 1627, 'cheski': 1628, 'closer': 1629, 'disagr': 1630, 'hurd': 1631, 'shapiro': 1632, 'centr': 1633, 'doubt': 1634, 'fell': 1635, 'relev': 1636, 'remot': 1637, 'rest': 1638, 'truth': 1639, 'univers': 1640, 'utilis': 1641, 'airborn': 1642, 'bang': 1643, 'calibr': 1644, 'launch': 1645, 'telemet': 1646, 'track': 1647, 'conveni': 1648, 'date': 1649, 'graphic': 1650, 'knowledg': 1651, 'nomograph': 1652, 'unswept': 1653, 'interplanetari': 1654, 'orbit': 1655, 'planet': 1656, 'unlimit': 1657, 'voyag': 1658, 'refractori': 1659, 'sum': 1660, 'movement': 1661, 'resembl': 1662, 'see': 1663, 'spillag': 1664, 'unchang': 1665, 'ward': 1666, 'aim': 1667, 'biconvex': 1668, 'diamond': 1669, 'instruct': 1670, 'ordin': 1671, 'parabol': 1672, 'serious': 1673, 'straight': 1674, 'altern': 1675, 'dy': 1676, 'specifi': 1677, 'obstacl': 1678, 'oseen': 1679, 'polar': 1680, 'check': 1681, 'descent': 1682, 'labori': 1683, 'schubauer': 1684, 'steepest': 1685, 'strike': 1686, 'gaussian': 1687, 'heisenberg': 1688, 'occupi': 1689, 'absenc': 1690, 'amen': 1691, 'assert': 1692, 'exercis': 1693, 'frictionless': 1694, 'helmholtz': 1695, 'immers': 1696, 'suppos': 1697, 'water': 1698, 'belong': 1699, 'discov': 1700, 'abstract': 1701, 'truli': 1702, 'circumscrib': 1703, 'denot': 1704, 'edgewis': 1705, 'eighth': 1706, 'ninth': 1707, 'polygon': 1708, 'preced': 1709, 'prohibit': 1710, 'roughli': 1711, 'seven': 1712, 'side': 1713, 'superpos': 1714, 'unfortun': 1715, 'deep': 1716, 'diminish': 1717, 'quotat': 1718, 'shallow': 1719, 'ship': 1720, 'translat': 1721, 'travel': 1722, 'treatis': 1723, 'trochoid': 1724, 'ultim': 1725, 'vessel': 1726, 'weitbrecht': 1727, 'exclud': 1728, 'hodograph': 1729, 'invert': 1730, 'pass': 1731, 'steadili': 1732, 'tripl': 1733, 'valued': 1734, 'elimin': 1735, 'histor': 1736, 'trial': 1737, 'appendix': 1738, 'choic': 1739, 'comprehens': 1740, 'criteria': 1741, 'insur': 1742, 'modulu': 1743, 'framework': 1744, 'nonvanish': 1745, 'riolat': 1746, 'streamwis': 1747, 'guidanc': 1748, 'largest': 1749, 'mile': 1750, 'misalin': 1751, 'miss': 1752, 'nonrot': 1753, 'retroveloc': 1754, 'satellit': 1755, 'stem': 1756, 'absorb': 1757, 'broaden': 1758, 'centric': 1759, 'corridor': 1760, 'fuel': 1761, 'heliocentr': 1762, 'hit': 1763, 'icbm': 1764, 'impli': 1765, 'jupit': 1766, 'mar': 1767, 'markedli': 1768, 'moon': 1769, 'nonlift': 1770, 'overshoot': 1771, 'perige': 1772, 'planetari': 1773, 'planeto': 1774, 'put': 1775, 'save': 1776, 'spacecraft': 1777, 'supercircular': 1778, 'target': 1779, 'termin': 1780, 'titan': 1781, 'undershoot': 1782, 'venu': 1783, 'allen': 1784, 'brake': 1785, 'egger': 1786, 'escap': 1787, 'introdur': 1788, 'pair': 1789, 'sanger': 1790, 'toler': 1791, 'trim': 1792, 'truncat': 1793, 'appraoch': 1794, 'grunow': 1795, 'inexpens': 1796, 'kempf': 1797, 'million': 1798, 'obtainec': 1799, 'schoenherr': 1800, 'schultz': 1801, 'slighlti': 1802, 'uncorrect': 1803, 'univer': 1804, 'virtual': 1805, 'absorpt': 1806, 'concis': 1807, 'dispers': 1808, 'harmon': 1809, 'mixtur': 1810, 'react': 1811, 'reservoir': 1812, 'corner': 1813, 'oxygen': 1814, 'planar': 1815, 'accommod': 1816, 'cell': 1817, 'eucken': 1818, 'hirschfeld': 1819, 'inert': 1820, 'polyatom': 1821, 'reciproc': 1822, 'stagnant': 1823, 'versu': 1824, 'sudden': 1825, 'whilst': 1826, 'afterflow': 1827, 'bulk': 1828, 'tent': 1829, 'third': 1830, 'compromis': 1831, 'devot': 1832, 'enlighten': 1833, 'goal': 1834, 'instal': 1835, 'turbojet': 1836, 'unsatisfactori': 1837, 'vital': 1838, 'bleed': 1839, 'insid': 1840, 'interchang': 1841, 'photographi': 1842, 'programm': 1843, 'read': 1844, 'supplement': 1845, 'annulu': 1846, 'rm': 1847, 'hole': 1848, 'entrain': 1849, 'shadow': 1850, 'adjust': 1851, 'carbon': 1852, 'dioxid': 1853, 'excel': 1854, 'accordingli': 1855, 'boat': 1856, 'partli': 1857, 'sting': 1858, 'deduct': 1859, 'apex': 1860, 'lowest': 1861, 'arm': 1862, 'maxwellian': 1863, 'probe': 1864, 'utia': 1865, 'layout': 1866, 'thermo': 1867, 'argon': 1868, 'categori': 1869, 'commerci': 1870, 'concoct': 1871, 'fire': 1872, 'heavi': 1873, 'krypton': 1874, 'monatom': 1875, 'nonflamm': 1876, 'nontox': 1877, 'select': 1878, 'toxic': 1879, 'xenon': 1880, 'accumul': 1881, 'inasmuch': 1882, 'sizeabl': 1883, 'thoroughli': 1884, 'classificaiton': 1885, 'dead': 1886, 'explan': 1887, 'incident': 1888, 'liter': 1889, 'oil': 1890, 'tni': 1891, 'anh': 1892, 'numger': 1893, 'hysteresi': 1894, 'stroboscop': 1895, 'unusu': 1896, 'wise': 1897, 'help': 1898, 'hydromagnet': 1899, 'rearrang': 1900, 'thoma': 1901, 'sub': 1902, 'tabular': 1903, 'invalid': 1904, 'lengthwis': 1905, 'analytici': 1906, 'calor': 1907, 'counterpart': 1908, 'manifest': 1909, 'rankin': 1910, 'verfi': 1911, 'verif': 1912, 'duplic': 1913, 'fring': 1914, 'cavit': 1915, 'lotz': 1916, 'rear': 1917, 'subcrit': 1918, 'cowl': 1919, 'ellipsoid': 1920, 'inlet': 1921, 'lip': 1922, 'oval': 1923, 'shank': 1924, 'spinner': 1925, 'ailcron': 1926, 'aileron': 1927, 'approx': 1928, 'deg': 1929, 'gap': 1930, 'hing': 1931, 'minu': 1932, 'seal': 1933, 'sheet': 1934, 'suffix': 1935, 'tab': 1936, 'avalu': 1937, 'crop': 1938, 'linearis': 1939, 'plung': 1940, 'taper': 1941, 'actur': 1942, 'destabil': 1943, 'enlarg': 1944, 'kink': 1945, 'stratagem': 1946, 'aerofoil': 1947, 'airload': 1948, 'airscrew': 1949, 'bibliographi': 1950, 'british': 1951, 'buffet': 1952, 'embrac': 1953, 'inerti': 1954, 'maintain': 1955, 'monograph': 1956, 'notat': 1957, 'omit': 1958, 'prevent': 1959, 'sake': 1960, 'text': 1961, 'slop': 1962, 'wood': 1963, 'afford': 1964, 'certainti': 1965, 'sweep': 1966, 'inboard': 1967, 'junctur': 1968, 'qualiti': 1969, 'quarterchord': 1970, 'semispan': 1971, 'constrain': 1972, 'german': 1973, 'screen': 1974, 'anisotrop': 1975, 'anisotropi': 1976, 'hall': 1977, 'ohm': 1978, 'tensor': 1979, 'adapt': 1980, 'kind': 1981, 'provision': 1982, 'rippl': 1983, 'run': 1984, 'stringer': 1985, 'underneath': 1986, 'wash': 1987, 'dual': 1988, 'fin': 1989, 'harri': 1990, 'incorpor': 1991, 'inflow': 1992, 'lever': 1993, 'nd': 1994, 'project': 1995, 'spin': 1996, 'therefrom': 1997, 'manufactur': 1998, 'bubbl': 1999, 'cascad': 2000, 'circumst': 2001, 'concurr': 2002, 'contract': 2003, 'favour': 2004, 'focu': 2005, 'inter': 2006, 'optimum': 2007, 'rotor': 2008, 'steam': 2009, 'suffer': 2010, 'turbin': 2011, 'uncertainti': 2012, 'convers': 2013, 'overrid': 2014, 'reliabl': 2015, 'highli': 2016, 'stag': 2017, 'acr': 2018, 'encourag': 2019, 'explor': 2020, 'ineffici': 2021, 'phase': 2022, 'stator': 2023, 'correlogram': 2024, 'diam': 2025, 'easier': 2026, 'mum': 2027, 'spectra': 2028, 'corrug': 2029, 'emerg': 2030, 'fat': 2031, 'muffler': 2032, 'powel': 2033, 'quiet': 2034, 'shroud': 2035, 'slice': 2036, 'ampli': 2037, 'analogu': 2038, 'astronaut': 2039, 'bandwidth': 2040, 'decid': 2041, 'decis': 2042, 'depart': 2043, 'ensur': 2044, 'outstand': 2045, 'ascertain': 2046, 'outboard': 2047, 'smoke': 2048, 'upper': 2049, 'stanton': 2050, 'ring': 2051, 'bank': 2052, 'crossflow': 2053, 'dyke': 2054, 'inhibit': 2055, 'intermedi': 2056, 'rep': 2057, 'strip': 2058, 'display': 2059, 'render': 2060, 'ridg': 2061, 'shall': 2062, 'angularli': 2063, 'cruciform': 2064, 'maskel': 2065, 'owen': 2066, 'sideforc': 2067, 'sidewash': 2068, 'stagger': 2069, 'upwash': 2070, 'downwash': 2071, 'equip': 2072, 'para': 2073, 'tailplan': 2074, 'weapon': 2075, 'routin': 2076, 'tangenc': 2077, 'arc': 2078, 'theorem': 2079, 'mehtod': 2080, 'noninclin': 2081, 'radian': 2082, 'evolv': 2083, 'minimis': 2084, 'choke': 2085, 'laval': 2086, 'percentag': 2087, 'appendic': 2088, 'code': 2089, 'collabor': 2090, 'committe': 2091, 'endors': 2092, 'multi': 2093, 'outcom': 2094, 'recommend': 2095, 'enquiri': 2096, 'slot': 2097, 'strut': 2098, 'alminar': 2099, 'app': 2100, 'i': 2101, 'transfn': 2102, 'pai': 2103, 'asimplifi': 2104, 'fit': 2105, 'interferomet': 2106, 'assist': 2107, 'blockag': 2108, 'bluish': 2109, 'bore': 2110, 'colour': 2111, 'compact': 2112, 'condens': 2113, 'contrast': 2114, 'corros': 2115, 'dens': 2116, 'denser': 2117, 'deposit': 2118, 'director': 2119, 'dri': 2120, 'educ': 2121, 'eventu': 2122, 'filament': 2123, 'floccul': 2124, 'hard': 2125, 'irrit': 2126, 'ministri': 2127, 'minut': 2128, 'precaut': 2129, 'prematur': 2130, 'retain': 2131, 'royal': 2132, 'say': 2133, 'smell': 2134, 'societi': 2135, 'staff': 2136, 'troubl': 2137, 'troublesom': 2138, 'visibl': 2139, 'visualis': 2140, 'wax': 2141, 'white': 2142, 'flap': 2143, 'circul': 2144, 'theta': 2145, 'trefitz': 2146, 'unequ': 2147, 'quickli': 2148, 'ref': 2149, 'thwait': 2150, 'deuc': 2151, 'rhombic': 2152, 'hop': 2153, 'perfor': 2154, 'aeroplan': 2155, 'afterburn': 2156, 'civil': 2157, 'climb': 2158, 'cost': 2159, 'lb': 2160, 'penalti': 2161, 'sq': 2162, 'walkden': 2163, 'summaris': 2164, 'dispos': 2165, 'freestream': 2166, 'mainstream': 2167, 'townsend': 2168, 'glanc': 2169, 'waist': 2170, 'couett': 2171, 'laufer': 2172, 'logarithm': 2173, 'poiseuil': 2174, 'rigor': 2175, 'slider': 2176, 'affin': 2177, 'equilibria': 2178, 'intermolecular': 2179, 'interv': 2180, 'pv': 2181, 'rt': 2182, 'individu': 2183, 'richmond': 2184, 'answer': 2185, 'atm': 2186, 'bomb': 2187, 'ceas': 2188, 'confin': 2189, 'declassifi': 2190, 'defenc': 2191, 'degrad': 2192, 'fission': 2193, 'home': 2194, 'nuclear': 2195, 'omiss': 2196, 'qm': 2197, 'radii': 2198, 'secur': 2199, 'supersed': 2200, 'tell': 2201, 'till': 2202, 'unaccompani': 2203, 'worker': 2204, 'writer': 2205, 'instantan': 2206, 'meteor': 2207, 'circulatori': 2208, 'eas': 2209, 'edpm': 2210, 'fredholm': 2211, 'hour': 2212, 'ibm': 2213, 'neumann': 2214, 'seidel': 2215, 'gershuni': 2216, 'ostrach': 2217, 'tao': 2218, 'zhukhovitskii': 2219, 'mat': 2220, 'ellips': 2221, 'histori': 2222, 'nasa': 2223, 'occurr': 2224, 'polish': 2225, 'pyrex': 2226, 'unifi': 2227, 'defici': 2228, 'detriment': 2229, 'evapor': 2230, 'mission': 2231, 'quartz': 2232, 'teflon': 2233, 'weigh': 2234, 'exposur': 2235, 'lunar': 2236, 'mid': 2237, 'fill': 2238, 'machin': 2239, 'tangenti': 2240, 'entail': 2241, 'hadamard': 2242, 'overcom': 2243, 'heaslet': 2244, 'lomax': 2245, 'semicircular': 2246, 'kingdom': 2247, 'version': 2248, 'haag': 2249, 'child': 2250, 'korst': 2251, 'fay': 2252, 'riddel': 2253, 'underestim': 2254, 'curl': 2255, 'poisson': 2256, 'twist': 2257, 'neater': 2258, 'sideslip': 2259, 'weissing': 2260, 'centroid': 2261, 'tank': 2262, 'cant': 2263, 'coast': 2264, 'intent': 2265, 'magnu': 2266, 'misalign': 2267, 'unintent': 2268, 'sweepback': 2269, 'coars': 2270, 'fail': 2271, 'piec': 2272, 'quadratur': 2273, 'recours': 2274, 'slide': 2275, 'advent': 2276, 'contrari': 2277, 'necessit': 2278, 'ninefold': 2279, 'persh': 2280, 'alfven': 2281, 'anomal': 2282, 'beta': 2283, 'echo': 2284, 'electrostat': 2285, 'ionospher': 2286, 'radar': 2287, 'unidirect': 2288, 'magnetoacoust': 2289, 'magnetoaerodynam': 2290, 'come': 2291, 'constitut': 2292, 'orgin': 2293, 'surpris': 2294, 'mol': 2295, 'partit': 2296, 'transpar': 2297, 'erickson': 2298, 'join': 2299, 'deficit': 2300, 'li': 2301, 'nagamatsu': 2302, 'hpyerson': 2303, 'interanl': 2304, 'thn': 2305, 'warn': 2306, 'prefer': 2307, 'advisori': 2308, 'care': 2309, 'excresc': 2310, 'inconveni': 2311, 'sever': 2312, 'spuriou': 2313, 'thinner': 2314, 'underli': 2315, 'hugoniot': 2316, 'undissoci': 2317, 'front': 2318, 'telegraph': 2319, 'variant': 2320, 'wavi': 2321, 'univac': 2322, 'meksyn': 2323, 'kemp': 2324, 'perfectli': 2325, 'surprisingli': 2326, 'cx': 2327, 'repetit': 2328, 'resolut': 2329, 'schuh': 2330, 'thereof': 2331, 'forst': 2332, 'invok': 2333, 'homann': 2334, 'oversimplif': 2335, 'zamm': 2336, 'incipi': 2337, 'merg': 2338, 'obey': 2339, 'rarefact': 2340, 'competit': 2341, 'disclos': 2342, 'drop': 2343, 'methanol': 2344, 'overst': 2345, 'tetrachlorid': 2346, 'fifth': 2347, 'sine': 2348, 'tension': 2349, 'inspect': 2350, 'remov': 2351, 'similitud': 2352, 'howorth': 2353, 'discern': 2354, 'distinctli': 2355, 'certainli': 2356, 'mil': 2357, 'pore': 2358, 'transpir': 2359, 'entranc': 2360, 'offer': 2361, 'undetermin': 2362, 'influx': 2363, 'academ': 2364, 'aerothermochem': 2365, 'annex': 2366, 'berger': 2367, 'blow': 2368, 'doctor': 2369, 'effus': 2370, 'enjoy': 2371, 'eros': 2372, 'etud': 2373, 'excus': 2374, 'fd': 2375, 'frustrat': 2376, 'ground': 2377, 'imprimeri': 2378, 'inaccur': 2379, 'ingeni': 2380, 'licens': 2381, 'memori': 2382, 'national': 2383, 'overlook': 2384, 'overstat': 2385, 'pari': 2386, 'parietal': 2387, 'poetic': 2388, 'poudr': 2389, 'press': 2390, 'seren': 2391, 'terminolog': 2392, 'thesi': 2393, 'threaten': 2394, 'usag': 2395, 'stimulu': 2396, 'bulent': 2397, 'wilson': 2398, 'bluntnos': 2399, 'recurs': 2400, 'isovel': 2401, 'hamel': 2402, 'jacobian': 2403, 'jefferi': 2404, 'jeffrey': 2405, 'nonparallel': 2406, 'dorodnitsyn': 2407, 'sweat': 2408, 'lightweight': 2409, 'secondli': 2410, 'eratur': 2411, 'facil': 2412, 'speric': 2413, 'binari': 2414, 'carter': 2415, 'prior': 2416, 'super': 2417, 'unnecessari': 2418, 'calculu': 2419, 'likewis': 2420, 'specular': 2421, 'kopal': 2422, 'corpuscular': 2423, 'london': 2424, 'pierci': 2425, 'proc': 2426, 'repeat': 2427, 'roy': 2428, 'ser': 2429, 'soc': 2430, 'winni': 2431, 'reissner': 2432, 'fictiti': 2433, 'joukowski': 2434, 'kutta': 2435, 'pinkerton': 2436, 'spenc': 2437, 'stall': 2438, 'radom': 2439, 'window': 2440, 'companion': 2441, 'exposit': 2442, 'lyapunov': 2443, 'nonslationari': 2444, 'optim': 2445, 'relay': 2446, 'servo': 2447, 'thorough': 2448, 'cartesian': 2449, 'manoeuvr': 2450, 'resolv': 2451, 'suscept': 2452, 'belotserkovskii': 2453, 'scarc': 2454, 'bergdolt': 2455, 'bertram': 2456, 'charter': 2457, 'demarc': 2458, 'gies': 2459, 'letter': 2460, 'stein': 2461, 'zehnder': 2462, 'memorandum': 2463, 'affirm': 2464, 'ame': 2465, 'geodes': 2466, 'leeward': 2467, 'blowout': 2468, 'lagrang': 2469, 'mayer': 2470, 'pilot': 2471, 'zoom': 2472, 'drift': 2473, 'howarth': 2474, 'mise': 2475, 'tsion': 2476, 'crabtre': 2477, 'rott': 2478, 'illingworth': 2479, 'unspecifi': 2480, 'adjoint': 2481, 'nonstationari': 2482, 'nonsteadi': 2483, 'diagon': 2484, 'garrick': 2485, 'theodorsen': 2486, 'bond': 2487, 'defect': 2488, 'kelli': 2489, 'seban': 2490, 'booster': 2491, 'frustum': 2492, 'tacitli': 2493, 'murray': 2494, 'obscur': 2495, 'semiinfinit': 2496, 'unbound': 2497, 'advoc': 2498, 'clamp': 2499, 'justif': 2500, 'simpli': 2501, 'stimul': 2502, 'midplan': 2503, 'dana': 2504, 'heavier': 2505, 'nomenclatur': 2506, 'restrain': 2507, 'young': 2508, 'controversi': 2509, 'lend': 2510, 'worthwhil': 2511, 'lagrangian': 2512, 'simplest': 2513, 'irrevers': 2514, 'narrow': 2515, 'onsag': 2516, 'shortcom': 2517, 'antisymmetr': 2518, 'multipli': 2519, 'bimolecular': 2520, 'exchang': 2521, 'post': 2522, 'relativist': 2523, 'unrelativist': 2524, 'amplifi': 2525, 'cloud': 2526, 'compression': 2527, 'gauss': 2528, 'hoffman': 2529, 'interstellar': 2530, 'promin': 2531, 'teller': 2532, 'necess': 2533, 'sink': 2534, 'hydrogen': 2535, 'monoxid': 2536, 'dashthat': 2537, 'enthalp': 2538, 'implic': 2539, 'nonrigor': 2540, 'notic': 2541, 'grasshof': 2542, 'fore': 2543, 'concur': 2544, 'decidedli': 2545, 'const': 2546, 'intrins': 2547, 'bagley': 2548, 'cruis': 2549, 'industri': 2550, 'lock': 2551, 'roger': 2552, 'unpublish': 2553, 'assess': 2554, 'counter': 2555, 'emphasis': 2556, 'imag': 2557, 'impair': 2558, 'land': 2559, 'lose': 2560, 'margin': 2561, 'neighbour': 2562, 'postpon': 2563, 'cf': 2564, 'flex': 2565, 'inflect': 2566, 'proof': 2567, 'schlicht': 2568, 'syng': 2569, 'unstabl': 2570, 'hitherto': 2571, 'soon': 2572, 'biharmon': 2573, 'enforc': 2574, 'intract': 2575, 'list': 2576, 'pli': 2577, 'foredrag': 2578, 'nearest': 2579, 'cal': 2580, 'circuit': 2581, 'tech': 2582, 'book': 2583, 'chap': 2584, 'electro': 2585, 'lattic': 2586, 'overhang': 2587, 'inadmiss': 2588, 'nullifi': 2589, 'bedford': 2590, 'humid': 2591, 'rae': 2592, 'assign': 2593, 'denc': 2594, 'indetermin': 2595, 'stepwis': 2596, 'chem': 2597, 'feb': 2598, 'hirshfeld': 2599, 'phi': 2600, 'iii': 2601, 'iv': 2602, 'tion': 2603, 'abruptli': 2604, 'daley': 2605, 'humphrey': 2606, 'lindsey': 2607, 'unsepar': 2608, 'various': 2609, 'reaffirm': 2610, 'translatori': 2611, 'assort': 2612, 'midspan': 2613, 'formal': 2614, 'deby': 2615, 'electrohydrodynam': 2616, 'ion': 2617, 'boltzmann': 2618, 'dielectr': 2619, 'inapplic': 2620, 'jastrow': 2621, 'pears': 2622, 'permeabl': 2623, 'sole': 2624, 'hurwitz': 2625, 'liapunov': 2626, 'routh': 2627, 'doublet': 2628, 'eulerian': 2629, 'quadruplet': 2630, 'cornel': 2631, 'drive': 2632, 'enhanc': 2633, 'exploit': 2634, 'found': 2635, 'stol': 2636, 'vtol': 2637, 'colloc': 2638, 'fewer': 2639, 'improp': 2640, 'languag': 2641, 'aforement': 2642, 'bind': 2643, 'delimit': 2644, 'nonspher': 2645, 'parabola': 2646, 'thirteen': 2647, 'succeed': 2648, 'adequaci': 2649, 'dx': 2650, 'word': 2651, 'gortler': 2652, 'stratford': 2653, 'inclus': 2654, 'paraplex': 2655, 'photoelast': 2656, 'room': 2657, 'castolit': 2658, 'epoxi': 2659, 'hysol': 2660, 'op': 2661, 'resin': 2662, 'ink': 2663, 'semiapex': 2664, 'vapor': 2665, 'planform': 2666, 'fog': 2667, 'latent': 2668, 'vapour': 2669, 'maeder': 2670, 'oswatitsch': 2671, 'easi': 2672, 'keun': 2673, 'chapter': 2674, 'indirect': 2675, 'chester': 2676, 'eq': 2677, 'proportion': 2678, 'complementari': 2679, 'dashn': 2680, 'erfc': 2681, 'im': 2682, 'jmin': 2683, 'jmjn': 2684, 'recurr': 2685, 'keulegan': 2686, 'quartic': 2687, 'sextic': 2688, 'umer': 2689, 'cuss': 2690, 'ff': 2691, 'insuffici': 2692, 'yy': 2693, 'combust': 2694, 'sutton': 2695, 'admixtur': 2696, 'laminari': 2697, 'reliev': 2698, 'reexamin': 2699, 'hypothes': 2700, 'aerothermoelast': 2701, 'facet': 2702, 'look': 2703, 'primari': 2704, 'backward': 2705, 'incom': 2706, 'al': 2707, 'announc': 2708, 'annual': 2709, 'ia': 2710, 'jan': 2711, 'msvo': 2712, 'prepar': 2713, 'th': 2714, 'york': 2715, 'ber': 2716, 'confus': 2717, 'feel': 2718, 'sure': 2719, 'typograph': 2720, 'typographi': 2721, 'unhappi': 2722, 'warrant': 2723, 'firmer': 2724, 'btu': 2725, 'johnson': 2726, 'pr': 2727, 'slug': 2728, 'nonsimilar': 2729, 'pay': 2730, 'plast': 2731, 'newton': 2732, 'buzz': 2733, 'sponsor': 2734, 'usaf': 2735, 'arithmet': 2736, 'coincid': 2737, 'afresh': 2738, 'coefstant': 2739, 'commun': 2740, 'compet': 2741, 'constanc': 2742, 'essenc': 2743, 'ficient': 2744, 'gamma': 2745, 'heretofor': 2746, 'laguerr': 2747, 'nice': 2748, 'puzzl': 2749, 'speak': 2750, 'wkb': 2751, 'joul': 2752, 'edelfelt': 2753, 'emmon': 2754, 'geiger': 2755, 'gordon': 2756, 'gravalo': 2757, 'serbin': 2758, 'squir': 2759, 'nonzero': 2760, 'redefinit': 2761, 'aeroballist': 2762, 'navi': 2763, 'cushion': 2764, 'havelock': 2765, 'quest': 2766, 'terrain': 2767, 'aft': 2768, 'chernyi': 2769, 'hise': 2770, 'sublim': 2771, 'apoge': 2772, 'expenditur': 2773, 'graze': 2774, 'swirl': 2775, 'restor': 2776, 'sustain': 2777, 'vanishingli': 2778, 'platinum': 2779, 'storag': 2780, 'movabl': 2781, 'hosokawa': 2782, 'spreiter': 2783, 'blend': 2784, 'overestim': 2785, 'shoulder': 2786, 'smoothli': 2787, 'acquir': 2788, 'ao': 2789, 'frontal': 2790, 'hansen': 2791, 'peng': 2792, 'pindroh': 2793, 'closest': 2794, 'liabl': 2795, 'elliott': 2796, 'flowmet': 2797, 'manomet': 2798, 'micromanomet': 2799, 'nylon': 2800, 'overlap': 2801, 'potentiomet': 2802, 'tap': 2803, 'thermocoupl': 2804, 'vacuum': 2805, 'distant': 2806, 'reimping': 2807, 'popular': 2808, 'bar': 2809, 'nonun': 2810, 'camera': 2811, 'cm': 2812, 'drum': 2813, 'enc': 2814, 'gun': 2815, 'hg': 2816, 'lumin': 2817, 'projectil': 2818, 'streak': 2819, 'conpress': 2820, 'dorod': 2821, 'eckert': 2822, 'nitzyn': 2823, 'infit': 2824, 'stack': 2825, 'gothic': 2826, 'oge': 2827, 'electroform': 2828, 'nickel': 2829, 'caret': 2830, 'undersurfac': 2831, 'eccentr': 2832, 'extra': 2833, 'gw': 2834, 'lifetim': 2835, 'pt': 2836, 'minnesota': 2837, 'pursu': 2838, 'creep': 2839, 'equilibr': 2840, 'glassi': 2841, 'fp': 2842, 'today': 2843, 'detra': 2844, 'hidalgo': 2845, 'repli': 2846, 'radic': 2847, 'ar': 2848, 'feldman': 2849, 'mm': 2850, 'nonpor': 2851, 'loos': 2852, 'mountain': 2853, 'radon': 2854, 'cope': 2855, 'chiefli': 2856, 'inertia': 2857, 'scalar': 2858, 'dropoff': 2859, 'grimming': 2860, 'william': 2861, 'friedrich': 2862, 'thin': 2863, 'noninsul': 2864, 'ultra': 2865, 'dashin': 2866, 'degreek': 2867, 'forego': 2868, 'thermomet': 2869, 'abrupt': 2870, 'benser': 2871, 'chemistri': 2872, 'middl': 2873, 'multistag': 2874, 'inst': 2875, 'notion': 2876, 'poor': 2877, 'surg': 2878, 'xiii': 2879, 'content': 2880, 'dirac': 2881, 'green': 2882, 'castigliano': 2883, 'thermomechan': 2884, 'viscoelast': 2885, 'handicap': 2886, 'adsorpt': 2887, 'chemisorpt': 2888, 'stefan': 2889, 'volterra': 2890, 'claim': 2891, 'sensibl': 2892, 'public': 2893, 'rememb': 2894, 'deterior': 2895, 'severli': 2896, 'cyclic': 2897, 'instig': 2898, 'barrel': 2899, 'chamber': 2900, 'microwav': 2901, 'ms': 2902, 'oversw': 2903, 'pivot': 2904, 'scruton': 2905, 'woodgat': 2906, 'anhedr': 2907, 'rotari': 2908, 'brown': 2909, 'michael': 2910, 'norman': 2911, 'farnborough': 2912, 'heater': 2913, 'lay': 2914, 'centigrad': 2915, 'cure': 2916, 'fibrou': 2917, 'hog': 2918, 'hotter': 2919, 'preheat': 2920, 'quick': 2921, 'realis': 2922, 'valv': 2923, 'centrelin': 2924, 'fuse': 2925, 'silica': 2926, 'shercliff': 2927, 'dashth': 2928, 'braunschweig': 2929, 'oblat': 2930, 'spheroid': 2931, 'worst': 2932, 'bracket': 2933, 'gram': 2934, 'kilometr': 2935, 'quadrat': 2936, 'belt': 2937, 'equatori': 2938, 'latitud': 2939, 'night': 2940, 'season': 2941, 'consolid': 2942, 'diurnal': 2943, 'fl': 2944, 'kallmann': 2945, 'octob': 2946, 'physcal': 2947, 'ray': 2948, 'sputnik': 2949, 'vanguard': 2950, 'violet': 2951, 'apart': 2952, 'discover': 2953, 'declin': 2954, 'dp': 2955, 'supposit': 2956, 'colder': 2957, 'constitu': 2958, 'dufour': 2959, 'migrat': 2960, 'multicompon': 2961, 'priori': 2962, 'soret': 2963, 'spontan': 2964, 'warmer': 2965, 'fan': 2966, 'mound': 2967, 'rearward': 2968, 'genuin': 2969, 'influenti': 2970, 'overexpans': 2971, 'touch': 2972, 'underexpans': 2973, 'co': 2974, 'absent': 2975, 'naval': 2976, 'split': 2977, 'shaft': 2978, 'uncoupl': 2979, 'combut': 2980, 'methan': 2981, 'beneath': 2982, 'arrest': 2983, 'painlev': 2984, 'transcend': 2985, 'tumbl': 2986, 'board': 2987, 'consier': 2988, 'deisgn': 2989, 'dicsov': 2990, 'guarante': 2991, 'lectur': 2992, 'prototyp': 2993, 'rib': 2994, 'tne': 2995, 'uncertain': 2996, 'extension': 2997, 'membran': 2998, 'sector': 2999, 'traction': 3000, 'kempner': 3001, 'massbalanc': 3002, 'scatter': 3003, 'antielast': 3004, 'bernoulli': 3005, 'gridwork': 3006, 'ritz': 3007, 'despit': 3008, 'gather': 3009, 'media': 3010, 'prime': 3011, 'reproduc': 3012, 'align': 3013, 'fabric': 3014, 'versa': 3015, 'vice': 3016, 'weav': 3017, 'superposit': 3018, 'equilater': 3019, 'hexagon': 3020, 'prismat': 3021, 'triangl': 3022, 'american': 3023, 'craft': 3024, 'hovercraft': 3025, 'maritim': 3026, 'person': 3027, 'roe': 3028, 'saunder': 3029, 'search': 3030, 'servic': 3031, 'sr': 3032, 'undertak': 3033, 'econom': 3034, 'downward': 3035, 'salient': 3036, 'convolut': 3037, 'imai': 3038, 'japan': 3039, 'interferogram': 3040, 'entireti': 3041, 'unretard': 3042, 'conjectur': 3043, 'hankel': 3044, 'paradox': 3045, 'whitehead': 3046, 'foreknowledg': 3047, 'adjoin': 3048, 'supplementari': 3049, 'bridg': 3050, 'cheng': 3051, 'classifi': 3052, 'ting': 3053, 'zakkay': 3054, 'caplan': 3055, 'octagon': 3056, 'attitud': 3057, 'counteract': 3058, 'dive': 3059, 'irrespect': 3060, 'ld': 3061, 'monoplan': 3062, 'parasol': 3063, 'isobar': 3064, 'get': 3065, 'predigest': 3066, 'proposit': 3067, 'vi': 3068, 'vii': 3069, 'endplat': 3070, 'anti': 3071, 'cubic': 3072, 'sgn': 3073, 'ux': 3074, 'droop': 3075, 'localis': 3076, 'legendr': 3077, 'prone': 3078, 'unconserv': 3079, 'bevel': 3080, 'thicker': 3081, 'nonisotherm': 3082, 'sibulkin': 3083, 'stine': 3084, 'wanlass': 3085, 'investigaion': 3086, 'spike': 3087, 'compound': 3088, 'ethylen': 3089, 'hydrocarbon': 3090, 'nacel': 3091, 'blowdown': 3092, 'staticpressur': 3093, 'degreer': 3094, 'sharpedg': 3095, 'corrobor': 3096, 'indici': 3097, 'kirchhoff': 3098, 'pitchingmo': 3099, 'acquisit': 3100, 'noncirculatori': 3101, 'birnbaum': 3102, 'lastli': 3103, 'possio': 3104, 'allmov': 3105, 'kernel': 3106, 'nonsingular': 3107, 'broad': 3108, 'notabl': 3109, 'som': 3110, 'wagner': 3111, 'glider': 3112, 'redistribut': 3113, 'reentri': 3114, 'duce': 3115, 'fold': 3116, 'wingtip': 3117, 'sandpap': 3118, 'smallest': 3119, 'highspe': 3120, 'unfold': 3121, 'untrim': 3122, 'dihedr': 3123, 'unif': 3124, 'accident': 3125, 'ampl': 3126, 'feet': 3127, 'martian': 3128, 'rpm': 3129, 'abundantli': 3130, 'aerocosmonaut': 3131, 'akin': 3132, 'back': 3133, 'circumlunar': 3134, 'cosmonaut': 3135, 'denomin': 3136, 'forefront': 3137, 'franc': 3138, 'illustri': 3139, 'mind': 3140, 'news': 3141, 'occas': 3142, 'onera': 3143, 'resourc': 3144, 'commenc': 3145, 'librat': 3146, 'massachusett': 3147, 'precipit': 3148, 'honeycomb': 3149, 'modal': 3150, 'sandwich': 3151, 'tensil': 3152, 'uni': 3153, 'cp': 3154, 'pound': 3155, 'strouhal': 3156, 'loudspeak': 3157, 'respond': 3158, 'specimen': 3159, 'cumul': 3160, 'damag': 3161, 'spacewis': 3162, 'assur': 3163, 'convict': 3164, 'endeavour': 3165, 'eye': 3166, 'siren': 3167, 'airlin': 3168, 'elev': 3169, 'gage': 3170, 'pod': 3171, 'throw': 3172, 'alloy': 3173, 'aluminium': 3174, 'aluminum': 3175, 'shorter': 3176, 'dictat': 3177, 'preval': 3178, 'chain': 3179, 'inequ': 3180, 'schwarz': 3181, 'propound': 3182, 'reinforc': 3183, 'sectori': 3184, 'connexion': 3185, 'deflexion': 3186, 'judg': 3187, 'semicircl': 3188, 'weinstein': 3189, 'bisector': 3190, 'laplacian': 3191, 'muller': 3192, 'transcendent': 3193, 'belief': 3194, 'donnel': 3195, 'flugg': 3196, 'inadequaci': 3197, 'unten': 3198, 'america': 3199, 'lundquist': 3200, 'quarter': 3201, 'southwel': 3202, 'circumferenti': 3203, 'tr': 3204, 'er': 3205, 'jone': 3206, 'leggett': 3207, 'michielsen': 3208, 'postbuckl': 3209, 'dvl': 3210, 'orthotrop': 3211, 'rsult': 3212, 'ab': 3213, 'bc': 3214, 'oc': 3215, 'mercuri': 3216, 'efflux': 3217, 'massbal': 3218, 'bodt': 3219, 'canard': 3220, 'gyrat': 3221, 'branchlin': 3222, 'lag': 3223, 'sophist': 3224, 'perimet': 3225, 'anov': 3226, 'disagre': 3227, 'klein': 3228, 'pessimist': 3229, 'noteworthi': 3230, 'boom': 3231, 'overpressur': 3232, 'inelast': 3233, 'monocoqu': 3234, 'beyween': 3235, 'beat': 3236, 'breath': 3237, 'node': 3238, 'slosh': 3239, 'yarymovych': 3240, 'hydrostat': 3241, 'bay': 3242, 'transtabl': 3243, 'cater': 3244, 'context': 3245, 'endur': 3246, 'riccati': 3247, 'solubl': 3248, 'meter': 3249, 'hoop': 3250, 'janzen': 3251, 'mag': 3252, 'philo': 3253, 'raleigh': 3254, 'micron': 3255, 'noninject': 3256, 'nonperm': 3257, 'psig': 3258, 'rube': 3259, 'stainless': 3260, 'steel': 3261, 'dodecagon': 3262, 'longest': 3263, 'permiss': 3264, 'valueless': 3265, 'astrophys': 3266, 'decim': 3267, 'quantum': 3268, 'rl': 3269, 'imaginari': 3270, 'bump': 3271, 'xx': 3272, 'horsesho': 3273, 'tailless': 3274, 'bourn': 3275, 'buoyanc': 3276, 'davi': 3277, 'hasimoto': 3278, 'ambigu': 3279, 'linder': 3280, 'atlarg': 3281, 'batchelor': 3282, 'entrant': 3283, 'ovalu': 3284, 'circuitri': 3285, 'unfavor': 3286, 'avro': 3287, 'clarifi': 3288, 'congress': 3289, 'expens': 3290, 'knee': 3291, 'kuchemann': 3292, 'phugoid': 3293, 'slew': 3294, 'statu': 3295, 'task': 3296, 'want': 3297, 'wingbodi': 3298, 'worsen': 3299, 'zurich': 3300, 'gaug': 3301, 'warren': 3302, 'liner': 3303, 'npl': 3304, 'carborundum': 3305, 'grain': 3306, 'sweptforward': 3307, 'undroop': 3308, 'aerfoil': 3309, 'hero': 3310, 'repercuss': 3311, 'roar': 3312, 'incur': 3313, 'insignific': 3314, 'risk': 3315, 'command': 3316, 'edward': 3317, 'popularli': 3318, 'widespread': 3319, 'wright': 3320, 'crack': 3321, 'objection': 3322, 'tailwind': 3323, 'amplif': 3324, 'bomber': 3325, 'cutoff': 3326, 'bypass': 3327, 'insight': 3328, 'lesser': 3329, 'whichev': 3330, 'clamshel': 3331, 'dissimilar': 3332, 'onic': 3333, 'skirt': 3334, 'tran': 3335, 'harden': 3336, 'prager': 3337, 'hencki': 3338, 'hollow': 3339, 'reuss': 3340, 'budianski': 3341, 'allud': 3342, 'contradict': 3343, 'correspondingli': 3344, 'crucial': 3345, 'hamper': 3346, 'legitim': 3347, 'nonexist': 3348, 'polyaxi': 3349, 'uniaxi': 3350, 'engess': 3351, 'turbanc': 3352, 'uneven': 3353, 'complement': 3354, 'nonconserv': 3355, 'impress': 3356, 'overli': 3357, 'unavoid': 3358, 'mere': 3359, 'stretch': 3360, 'dome': 3361, 'surpass': 3362, 'ascrib': 3363, 'item': 3364, 'aec': 3365, 'chien': 3366, 'stoker': 3367, 'vs': 3368, 'safeti': 3369, 'trick': 3370, 'huang': 3371, 'park': 3372, 'spragu': 3373, 'coupon': 3374, 'lingitudin': 3375, 'inplan': 3376, 'multiaxi': 3377, 'perman': 3378, 'ruptur': 3379, 'pressuris': 3380, 'unpressur': 3381, 'unstiffen': 3382, 'wrinkl': 3383, 'batdorf': 3384, 'wavelength': 3385, 'median': 3386, 'viewpoint': 3387, 'aural': 3388, 'freeli': 3389, 'love': 3390, 'nodal': 3391, 'timoshenko': 3392, 'nod': 3393, 'lineal': 3394, 'doubli': 3395, 'noncircular': 3396, 'brass': 3397, 'magnesium': 3398, 'psf': 3399, 'multibay': 3400, 'ph': 3401, 'unload': 3402, 'unstress': 3403, 'unsupport': 3404, 'mw': 3405, 'unanticip': 3406, 'driest': 3407, 'bed': 3408, 'fluidiz': 3409, 'intercrystallin': 3410, 'intergranular': 3411, 'oxid': 3412, 'fractur': 3413, 'graham': 3414, 'loop': 3415, 'nimon': 3416, 'rheolog': 3417, 'eigenvector': 3418, 'reactor': 3419, 'residu': 3420, 'unreal': 3421, 'disloc': 3422, 'immobil': 3423, 'kt': 3424, 'peclet': 3425, 'gravit': 3426, 'mckinnon': 3427, 'worthi': 3428, 'addendum': 3429, 'envisag': 3430, 'clearanc': 3431, 'expend': 3432, 'acceleromet': 3433, 'count': 3434, 'undoubtedli': 3435, 'tubular': 3436, 'unrestrain': 3437, 'bulkhead': 3438, 'cooler': 3439, 'zuk': 3440, 'encircl': 3441, 'pneumat': 3442, 'coverag': 3443, 'unexplain': 3444, 'airforc': 3445, 'economi': 3446, 'hybrid': 3447, 'clockwis': 3448, 'manocuvr': 3449, 'kelvin': 3450, 'zbrozek': 3451, 'septemb': 3452, 'auspic': 3453, 'council': 3454, 'hydraul': 3455, 'iowa': 3456, 'request': 3457, 'burst': 3458, 'dramat': 3459, 'exagger': 3460, 'firm': 3461, 'hash': 3462, 'malfunct': 3463, 'pose': 3464, 'sea': 3465, 'spectacular': 3466, 'stochast': 3467, 'confid': 3468, 'caravel': 3469, 'bare': 3470, 'indirectli': 3471, 'tungsten': 3472, 'spectral': 3473, 'ban': 3474, 'beg': 3475, 'defi': 3476, 'negat': 3477, 'preclud': 3478, 'premis': 3479, 'tractabl': 3480, 'conidt': 3481, 'forcibl': 3482, 'pin': 3483, 'adam': 3484, 'easiest': 3485, 'heav': 3486, 'recognis': 3487, 'ko': 3488, 'breadth': 3489, 'munk': 3490, 'katzen': 3491, 'nielsen': 3492, 'tang': 3493, 'trapezoid': 3494, 'unbank': 3495, 'cylinder': 3496, 'duralumin': 3497, 'mild': 3498, 'proposel': 3499, 'unsymmetr': 3500, 'meh': 3501, 'placement': 3502, 'prikl': 3503, 'rewrit': 3504, 'vlasov': 3505, 'drosophila': 3506, 'housefli': 3507, 'insect': 3508, 'lap': 3509, 'mainten': 3510, 'rivet': 3511, 'roughen': 3512, 'mistak': 3513, 'circumfer': 3514, 'synthesi': 3515, 'asid': 3516, 'magnetoga': 3517, 'tan': 3518, 'temp': 3519, 'kirk': 3520, 'pre': 3521, 'decompos': 3522, 'transduc': 3523, 'block': 3524, 'hub': 3525, 'pump': 3526, 'sharpli': 3527, 'vertex': 3528, 'hyper': 3529, 'gerard': 3530, 'rabotnov': 3531, 'shanley': 3532, 'shesterikov': 3533, 'armenaka': 3534, 'herrmann': 3535, 'closur': 3536, 'mismatch': 3537, 'nonconcurr': 3538, 'toru': 3539, 'sand': 3540, 'wich': 3541, 'bellevil': 3542, 'bifurc': 3543, 'snap': 3544, 'furnish': 3545, 'scoop': 3546, 'bornel': 3547, 'kernal': 3548, 'meteorit': 3549, 'mitig': 3550, 'solidif': 3551, 'stoni': 3552, 'asm': 3553, 'tional': 3554, 'untest': 3555, 'venturi': 3556, 'magnetofluidmechan': 3557, 'magnetogasdynam': 3558, 'sail': 3559, 'bonu': 3560, 'obvious': 3561, 'sizabl': 3562, 'usabl': 3563, 'perpendicularli': 3564, 'arrow': 3565, 'berthelot': 3566, 'planck': 3567, 'coalesc': 3568, 'mc': 3569, 'requenc': 3570, 'spite': 3571, 'swallow': 3572, 'uhf': 3573, 'inafinit': 3574, 'ordnanc': 3575, 'diversifi': 3576, 'modest': 3577, 'kay': 3578, 'yeh': 3579, 'copper': 3580, 'graphit': 3581, 'molybdenum': 3582, 'deffer': 3583, 'meridion': 3584, 'streamtub': 3585, 'redesign': 3586, 'skew': 3587, 'viii': 3588, 'turbo': 3589, 'turbomachin': 3590, 'prewhirl': 3591, 'impart': 3592, 'splitter': 3593, 'prolat': 3594, 'unexpectedli': 3595, 'benefit': 3596, 'gardless': 3597, 'halv': 3598, 'hous': 3599, 'retrocket': 3600, 'retrorocket': 3601, 'plateau': 3602, 'revis': 3603, 'princeton': 3604, 'protrud': 3605, 'poind': 3606, 'marin': 3607, 'unimport': 3608, 'palt': 3609, 'concret': 3610, 'librov': 3611, 'isochron': 3612, 'gag': 3613, 'elaps': 3614, 'oven': 3615, 'crook': 3616, 'equicohes': 3617, 'phenomenolog': 3618, 'polycrystallin': 3619, 'iron': 3620, 'levi': 3621, 'trefftz': 3622, 'nongyroscop': 3623, 'lob': 3624, 'uncontrol': 3625, 'crinolin': 3626, 'drape': 3627, 'nearer': 3628, 'cambridg': 3629, 'internat': 3630, 'marguerr': 3631, 'mech': 3632, 'wiley': 3633, 'creat': 3634, 'judici': 3635, 'stepdown': 3636, 'argument': 3637, 'geckel': 3638, 'meissner': 3639, 'cabin': 3640, 'mth': 3641, 'nth': 3642, 'undeform': 3643, 'attaindd': 3644, 'grossman': 3645, 'inaccess': 3646, 'indefinit': 3647, 'labour': 3648, 'lyskov': 3649, 'russian': 3650, 'satisfact': 3651, 'specialis': 3652, 'fasten': 3653, 'atten': 3654, 'bimetal': 3655, 'delft': 3656, 'holland': 3657, 'scientist': 3658, 'symposium': 3659, 'tradit': 3660, 'immov': 3661, 'keller': 3662, 'reiss': 3663, 'corpor': 3664, 'versatil': 3665, 'almen': 3666, 'laszlo': 3667, 'violat': 3668, 'arrheniu': 3669, 'crank': 3670, 'nicolson': 3671, 'bean': 3672, 'tilt': 3673, 'administr': 3674, 'sensor': 3675, 'hammerhead': 3676, 'packard': 3677, 'reflex': 3678, 'prebuckl': 3679, 'torispher': 3680, 'toroid': 3681, 'decomposit': 3682, 'enorm': 3683, 'ignit': 3684, 'quench': 3685, 'ardc': 3686, 'go': 3687, 'hemispheroid': 3688, 'orlfic': 3689, 'mesh': 3690, 'old': 3691, 'practition': 3692, 'skill': 3693, 'dirichlet': 3694, 'newli': 3695, 'superscript': 3696, 'wb': 3697, 'profound': 3698, 'twin': 3699, 'tractor': 3700, 'buri': 3701, 'redirect': 3702, 'regain': 3703, 'auxiliari': 3704, 'mph': 3705, 'plain': 3706, 'upward': 3707, 'ammonium': 3708, 'chlorid': 3709, 'fiber': 3710, 'inorgan': 3711, 'lamin': 3712, 'lucit': 3713, 'melamin': 3714, 'phenol': 3715, 'polystyren': 3716, 'salt': 3717, 'sodium': 3718, 'haveg': 3719, 'rocketon': 3720, 'unman': 3721, 'unabl': 3722, 'inconel': 3723, 'nonabl': 3724, 'polym': 3725, 'boost': 3726, 'nautic': 3727, 'payload': 3728, 'creas': 3729, 'access': 3730, 'index': 3731, 'decrement': 3732, 'unblunt': 3733, 'moor': 3734, 'audio': 3735, 'cathod': 3736, 'dampomet': 3737, 'name': 3738, 'subaudio': 3739, 'windtunnel': 3740, 'centaur': 3741, 'midchord': 3742, 'tailor': 3743, 'whisker': 3744, 'secant': 3745, 'octahedr': 3746, 'perplex': 3747, 'basin': 3748, 'repair': 3749, 'sequel': 3750, 'conceptu': 3751, 'foundat': 3752, 'acet': 3753, 'bulg': 3754, 'cellular': 3755, 'cellulos': 3756, 'groov': 3757, 'papreg': 3758, 'admiss': 3759, 'handbook': 3760, 'embryon': 3761, 'kendrick': 3762, 'nash': 3763, 'threshold': 3764, 'weaken': 3765, 'caution': 3766, 'edit': 3767, 'interim': 3768, 'psi': 3769, 'safe': 3770, 'unfir': 3771, 'knuckl': 3772, 'prism': 3773, 'rigidli': 3774, 'unflang': 3775, 'np': 3776, 'toricon': 3777, 'amer': 3778, 'dissert': 3779, 'jointli': 3780, 'langer': 3781, 'nonhomogen': 3782, 'wissler': 3783, 'beskin': 3784, 'randomli': 3785, 'satelit': 3786, 'apropri': 3787, 'standoff': 3788, 'driver': 3789, 'millisecond': 3790, 'deeper': 3791, 'erod': 3792, 'errat': 3793, 'gravel': 3794, 'intensif': 3795, 'intensifi': 3796, 'recircul': 3797, 'stronger': 3798, 'tuft': 3799, 'soft': 3800, 'daytim': 3801, 'nocturn': 3802, 'capillari': 3803, 'claus': 3804, 'reinvestig': 3805, 'tempratur': 3806, 'morn': 3807, 'singli': 3808, 'millimet': 3809, 'devreas': 3810, 'deton': 3811, 'jouguet': 3812, 'periment': 3813, 'halfway': 3814, 'helicopt': 3815, 'slower': 3816, 'upflow': 3817, 'dirt': 3818, 'soak': 3819, 'spray': 3820, 'dent': 3821, 'obliter': 3822, 'punctur': 3823, 'snow': 3824, 'superfici': 3825, 'vision': 3826, 'chase': 3827, 'crush': 3828, 'inadvert': 3829, 'macadam': 3830, 'multipropel': 3831, 'stone': 3832, 'taxi': 3833, 'accentu': 3834, 'hangl': 3835, 'rudimentari': 3836, 'undesir': 3837, 'airfram': 3838, 'vz': 3839, 'strengthen': 3840, 'unfil': 3841, 'append': 3842, 'bleich': 3843, 'expound': 3844, 'goodier': 3845, 'readi': 3846, 'salmon': 3847, 'rectangl': 3848, 'yuan': 3849, 'garabedian': 3850, 'wet': 3851, 'boiloff': 3852, 'deflagr': 3853, 'dorodnitzin': 3854, 'heterogen': 3855, 'nonreact': 3856, 'reactiv': 3857, 'vent': 3858, 'nonalign': 3859, 'superfast': 3860, 'unexpect': 3861, 'heimenz': 3862, 'millikan': 3863, 'jetlik': 3864, 'wakelik': 3865, 'bakanov': 3866, 'deryagin': 3867, 'enskog': 3868, 'curvilinear': 3869, 'locu': 3870, 'synthes': 3871, 'grad': 3872, 'hyperlipt': 3873, 'mccune': 3874, 'unperturb': 3875, 'underexpand': 3876, 'calib': 3877, 'hroma': 3878, 'dalton': 3879, 'dilut': 3880, 'gibb': 3881, 'iodin': 3882, 'lennard': 3883, 'centripet': 3884, 'erdmann': 3885, 'nonneg': 3886, 'subarc': 3887, 'switch': 3888, 'weierstrass': 3889, 'pyramid': 3890, 'weaker': 3891, 'nonisentrop': 3892, 'paint': 3893, 'dewpoint': 3894, 'dust': 3895, 'hemi': 3896, 'utilz': 3897, 'cusp': 3898, 'mhd': 3899, 'acrodynam': 3900, 'consumpt': 3901, 'sesir': 3902, 'shockless': 3903, 'motionless': 3904, 'coher': 3905, 'subsidiari': 3906, 'veociti': 3907, 'aerothermodynam': 3908, 'reshotko': 3909, 'elong': 3910, 'glycerin': 3911, 'hydroballist': 3912, 'oversimplifi': 3913, 'unrealist': 3914, 'unconstrain': 3915, 'balsa': 3916, 'isofoam': 3917, 'semiballist': 3918, 'kelley': 3919, 'modul': 3920, 'ribbon': 3921, 'dipol': 3922, 'maximuin': 3923, 'annul': 3924, 'kuo': 3925, 'plk': 3926, 'poincar': 3927, 'portiou': 3928, 'spirit': 3929, 'termperatur': 3930, 'avov': 3931, 'cosin': 3932, 'hypersoul': 3933, 'summat': 3934, 'curtain': 3935, 'steamlin': 3936, 'undersid': 3937, 'liouvil': 3938, 'sturm': 3939, 'bounari': 3940, 'murphi': 3941, 'nonmagnet': 3942, 'ponderomot': 3943, 'cancel': 3944, 'haack': 3945, 'implement': 3946, 'scar': 3947, 'integrand': 3948, 'integro': 3949, 'rung': 3950, 'fale': 3951, 'instant': 3952, 'momentari': 3953, 'overshadow': 3954, 'reserv': 3955, 'suppress': 3956, 'schemat': 3957, 'silenc': 3958, 'teeth': 3959, 'nonplanar': 3960, 'termwis': 3961, 'mahoni': 3962, 'conductor': 3963, 'coulomb': 3964, 'bolshakov': 3965, 'dilat': 3966, 'loitsianskii': 3967, 'merger': 3968, 'outermost': 3969, 'ifer': 3970, 'acrothermochemistri': 3971, 'maxwel': 3972, 'martin': 3973, 'mirel': 3974, 'photomultipli': 3975, 'inhomogen': 3976, 'unresolv': 3977, 'cast': 3978, 'depict': 3979, 'pseudo': 3980, 'semidiamet': 3981, 'nonslend': 3982, 'holder': 3983, 'calcualt': 3984, 'hypass': 3985, 'sugar': 3986, 'evvard': 3987, 'helic': 3988, 'krasilshchikova': 3989, 'lightli': 3990, 'noncommun': 3991, 'nonorthogon': 3992, 'complimentari': 3993, 'unsteadili': 3994, 'recov': 3995, 'aerotherm': 3996, 'age': 3997, 'cumbersom': 3998, 'sigular': 3999, 'withdraw': 4000, 'tubul': 4001, 'constantli': 4002, 'shyperson': 4003, 'inconclus': 4004, 'sobson': 4005, 'unmodul': 4006, 'plume': 4007, 'user': 4008, 'deplet': 4009, 'nitric': 4010, 'shuffl': 4011, 'deioniz': 4012, 'rf': 4013, 'sheath': 4014, 'decad': 4015, 'hantzsch': 4016, 'wendt': 4017, 'bullet': 4018, 'spindl': 4019, 'fort': 4020, 'halstead': 4021, 'climin': 4022, 'origint': 4023, 'diaphragm': 4024, 'sight': 4025, 'blue': 4026, 'bright': 4027, 'degreec': 4028, 'disequilibrium': 4029, 'indium': 4030, 'interpos': 4031, 'mirror': 4032, 'oscillograph': 4033, 'spectrograph': 4034, 'flash': 4035, 'thirdli': 4036, 'coat': 4037, 'nondissip': 4038, 'orr': 4039, 'sketchi': 4040, 'sommerfeld': 4041, 'altogeth': 4042, 'resili': 4043, 'unfavour': 4044, 'china': 4045, 'clay': 4046, 'pimpl': 4047, 'protuber': 4048, 'drill': 4049, 'handley': 4050, 'suck': 4051, 'throttl': 4052, 'ejector': 4053, 'gascou': 4054, 'injector': 4055, 'chu': 4056, 'hick': 4057, 'kussner': 4058, 'sweptw': 4059, 'nineteen': 4060, 'stipul': 4061, 'untwist': 4062, 'rectilinear': 4063, 'price': 4064, 'deepest': 4065, 'billow': 4066, 'unitari': 4067, 'inop': 4068, 'ramp': 4069, 'thing': 4070, 'supplort': 4071, 'dispar': 4072, 'rand': 4073, 'warp': 4074, 'interdepend': 4075, 'yeild': 4076, 'agenc': 4077, 'provok': 4078, 'osoen': 4079, 'globul': 4080, 'lengthen': 4081, 'superaerodynam': 4082, 'warhead': 4083, 'carrier': 4084, 'ofr': 4085, 'breguet': 4086, 'debat': 4087, 'exot': 4088, 'grand': 4089, 'outweight': 4090, 'strang': 4091, 'thermopropuls': 4092, 'unorthodox': 4093, 'unrestrict': 4094, 'shelter': 4095, 'financi': 4096, 'shortli': 4097, 'midway': 4098, 'regist': 4099, 'cauchi': 4100, 'reformul': 4101, 'delin': 4102, 'aeolotrop': 4103, 'determinant': 4104, 'intuit': 4105, 'hoshizaki': 4106, 'recover': 4107, 'fralich': 4108, 'ing': 4109, 'ob': 4110}\n"
     ]
    }
   ],
   "source": [
    "# Show the word to id map\n",
    "print(dictionary.token2id)"
   ]
  },
  {
   "cell_type": "markdown",
   "metadata": {},
   "source": [
    "We have successfully created a Dictionary object. Gensim will use this dictionary to create a bag-of-words corpus where the words in the documents are replaced with its respective id provided by this dictionary.\n",
    "\n",
    "## Term Frequency"
   ]
  },
  {
   "cell_type": "code",
   "execution_count": 7,
   "metadata": {},
   "outputs": [
    {
     "name": "stdout",
     "output_type": "stream",
     "text": [
      "# Term Frequency : \n"
     ]
    },
    {
     "data": {
      "text/plain": [
       "[[(0, 1),\n",
       "  (1, 1),\n",
       "  (2, 1),\n",
       "  (3, 1),\n",
       "  (4, 1),\n",
       "  (5, 1),\n",
       "  (6, 1),\n",
       "  (7, 1),\n",
       "  (8, 1),\n",
       "  (9, 1),\n",
       "  (10, 3),\n",
       "  (11, 1),\n",
       "  (12, 3),\n",
       "  (13, 1),\n",
       "  (14, 2),\n",
       "  (15, 1),\n",
       "  (16, 2),\n",
       "  (17, 1),\n",
       "  (18, 1),\n",
       "  (19, 2),\n",
       "  (20, 1),\n",
       "  (21, 1),\n",
       "  (22, 1),\n",
       "  (23, 2),\n",
       "  (24, 1),\n",
       "  (25, 1),\n",
       "  (26, 1),\n",
       "  (27, 1),\n",
       "  (28, 4),\n",
       "  (29, 1),\n",
       "  (30, 1),\n",
       "  (31, 1),\n",
       "  (32, 1),\n",
       "  (33, 1),\n",
       "  (34, 1),\n",
       "  (35, 1),\n",
       "  (36, 1),\n",
       "  (37, 1),\n",
       "  (38, 1),\n",
       "  (39, 5),\n",
       "  (40, 1),\n",
       "  (41, 1),\n",
       "  (42, 1),\n",
       "  (43, 1),\n",
       "  (44, 1),\n",
       "  (45, 1),\n",
       "  (46, 1),\n",
       "  (47, 1),\n",
       "  (48, 1),\n",
       "  (49, 1),\n",
       "  (50, 1),\n",
       "  (51, 1),\n",
       "  (52, 3)],\n",
       " [(5, 5),\n",
       "  (9, 1),\n",
       "  (12, 1),\n",
       "  (14, 1),\n",
       "  (20, 6),\n",
       "  (21, 3),\n",
       "  (26, 1),\n",
       "  (27, 5),\n",
       "  (32, 4),\n",
       "  (38, 1),\n",
       "  (43, 3),\n",
       "  (44, 2),\n",
       "  (53, 1),\n",
       "  (54, 1),\n",
       "  (55, 2),\n",
       "  (56, 1),\n",
       "  (57, 1),\n",
       "  (58, 2),\n",
       "  (59, 1),\n",
       "  (60, 2),\n",
       "  (61, 2),\n",
       "  (62, 1),\n",
       "  (63, 1),\n",
       "  (64, 1),\n",
       "  (65, 1),\n",
       "  (66, 1),\n",
       "  (67, 3),\n",
       "  (68, 2),\n",
       "  (69, 1),\n",
       "  (70, 2),\n",
       "  (71, 2),\n",
       "  (72, 1),\n",
       "  (73, 3),\n",
       "  (74, 1),\n",
       "  (75, 1),\n",
       "  (76, 1),\n",
       "  (77, 1),\n",
       "  (78, 1),\n",
       "  (79, 1),\n",
       "  (80, 1),\n",
       "  (81, 1),\n",
       "  (82, 1),\n",
       "  (83, 4),\n",
       "  (84, 3),\n",
       "  (85, 1),\n",
       "  (86, 2),\n",
       "  (87, 1),\n",
       "  (88, 1),\n",
       "  (89, 1),\n",
       "  (90, 1),\n",
       "  (91, 2),\n",
       "  (92, 2),\n",
       "  (93, 2),\n",
       "  (94, 2),\n",
       "  (95, 2),\n",
       "  (96, 2),\n",
       "  (97, 1),\n",
       "  (98, 1),\n",
       "  (99, 1),\n",
       "  (100, 1),\n",
       "  (101, 1),\n",
       "  (102, 2),\n",
       "  (103, 2),\n",
       "  (104, 2),\n",
       "  (105, 2)],\n",
       " [(5, 2),\n",
       "  (20, 2),\n",
       "  (27, 2),\n",
       "  (67, 1),\n",
       "  (71, 1),\n",
       "  (83, 1),\n",
       "  (84, 1),\n",
       "  (87, 1),\n",
       "  (92, 1),\n",
       "  (94, 1),\n",
       "  (99, 1),\n",
       "  (106, 1),\n",
       "  (107, 1),\n",
       "  (108, 1)],\n",
       " [(5, 5),\n",
       "  (13, 1),\n",
       "  (14, 1),\n",
       "  (20, 3),\n",
       "  (27, 5),\n",
       "  (32, 1),\n",
       "  (51, 1),\n",
       "  (53, 1),\n",
       "  (58, 1),\n",
       "  (60, 1),\n",
       "  (67, 1),\n",
       "  (68, 1),\n",
       "  (71, 2),\n",
       "  (84, 2),\n",
       "  (92, 2),\n",
       "  (99, 1),\n",
       "  (104, 1),\n",
       "  (106, 1),\n",
       "  (109, 1),\n",
       "  (110, 1),\n",
       "  (111, 1),\n",
       "  (112, 1),\n",
       "  (113, 1),\n",
       "  (114, 1),\n",
       "  (115, 1),\n",
       "  (116, 2),\n",
       "  (117, 1),\n",
       "  (118, 1),\n",
       "  (119, 1)],\n",
       " [(0, 1),\n",
       "  (27, 1),\n",
       "  (60, 1),\n",
       "  (87, 1),\n",
       "  (96, 1),\n",
       "  (116, 1),\n",
       "  (120, 1),\n",
       "  (121, 1),\n",
       "  (122, 2),\n",
       "  (123, 1),\n",
       "  (124, 1),\n",
       "  (125, 1),\n",
       "  (126, 6),\n",
       "  (127, 1),\n",
       "  (128, 1),\n",
       "  (129, 1),\n",
       "  (130, 1),\n",
       "  (131, 2),\n",
       "  (132, 2),\n",
       "  (133, 1),\n",
       "  (134, 1),\n",
       "  (135, 1),\n",
       "  (136, 2),\n",
       "  (137, 1),\n",
       "  (138, 1)]]"
      ]
     },
     "execution_count": 7,
     "metadata": {},
     "output_type": "execute_result"
    }
   ],
   "source": [
    "# la methode : doc2bow(document,...)  kt7awel les word --> l' vector d les frequense des mots\n",
    "corpus_doc2bow_vectors = [dictionary.doc2bow(tok_doc) for tok_doc in tokens]\n",
    "print(\"# Term Frequency : \")\n",
    "corpus_doc2bow_vectors[:5]"
   ]
  },
  {
   "cell_type": "markdown",
   "metadata": {},
   "source": [
    "## TF-IDF"
   ]
  },
  {
   "cell_type": "code",
   "execution_count": 8,
   "metadata": {},
   "outputs": [
    {
     "name": "stdout",
     "output_type": "stream",
     "text": [
      "\n",
      "\n",
      "# TF_IDF : \n",
      "[(0, 2.967395334568072), (1, 4.568568062470487), (2, 2.7232906572691298), (3, 3.6183210976675872), (4, 4.36374827058199), (5, 1.574694165267329), (6, 2.502843880247651), (7, 4.111361108947704), (8, 4.520473774269443), (9, 3.5086966064930896), (10, 28.353633335496987), (11, 2.2272094376342237), (12, 8.598745833333519), (13, 1.955356084945158), (14, 2.7434526560110273), (15, 5.451211111832329), (16, 8.643856189774725), (17, 5.281286110390017), (18, 3.093659107214245), (19, 4.092139297391969), (20, 0.9394584580649492), (21, 2.6830267870554025), (22, 2.7647105846491105), (23, 12.727496541163978), (24, 3.2515387669959646), (25, 6.866248611111173), (26, 1.955356084945158), (27, 1.7577241543330036), (28, 12.553312626191893), (29, 2.807354922057604), (30, 2.8291592923759525), (31, 4.593230116704757), (32, 2.1158207571384042), (33, 4.16580889297008), (34, 5.321928094887363), (35, 2.2466399675831252), (36, 4.807354922057604), (37, 1.0165828841956044), (38, 1.9120523007242978), (39, 32.72160258111906), (40, 5.058893689053569), (41, 5.807354922057605), (42, 4.473931188332412), (43, 2.538321775602367), (44, 2.5443205162238103), (45, 5.093659107214245), (46, 9.451211111832329), (47, 4.321928094887363), (48, 2.574694165267329), (49, 1.6183210976675872), (50, 5.093659107214245), (51, 2.142872081692922), (52, 7.893096448251423)]\n"
     ]
    }
   ],
   "source": [
    "tfidf_model = models.TfidfModel(corpus_doc2bow_vectors, id2word=dictionary, normalize=False)\n",
    "corpus_tfidf_vectors = tfidf_model[corpus_doc2bow_vectors]\n",
    "print(\"\\n\\n# TF_IDF : \")\n",
    "print(corpus_tfidf_vectors[0])\n",
    "# for doc_vector in corpus_tfidf_vectors:\n",
    "#     print(doc_vector)"
   ]
  },
  {
   "cell_type": "markdown",
   "metadata": {},
   "source": [
    "<h2>Query</h2>"
   ]
  },
  {
   "cell_type": "code",
   "execution_count": 9,
   "metadata": {},
   "outputs": [],
   "source": [
    "with open(home + 'cran/cran.qry','r') as file :\n",
    "    qwery_file = file.read()\n",
    "qwery_file = qwery_file.split(r'.I')\n",
    "qwery_file = [ q.split(r'.W')[1][1:] for q in qwery_file if q ]"
   ]
  },
  {
   "cell_type": "markdown",
   "metadata": {},
   "source": [
    "## Cosine similarity"
   ]
  },
  {
   "cell_type": "code",
   "execution_count": 20,
   "metadata": {},
   "outputs": [
    {
     "data": {
      "text/html": [
       "<div>\n",
       "<style scoped>\n",
       "    .dataframe tbody tr th:only-of-type {\n",
       "        vertical-align: middle;\n",
       "    }\n",
       "\n",
       "    .dataframe tbody tr th {\n",
       "        vertical-align: top;\n",
       "    }\n",
       "\n",
       "    .dataframe thead th {\n",
       "        text-align: right;\n",
       "    }\n",
       "</style>\n",
       "<table border=\"1\" class=\"dataframe\">\n",
       "  <thead>\n",
       "    <tr style=\"text-align: right;\">\n",
       "      <th></th>\n",
       "      <th>query_id</th>\n",
       "      <th>query</th>\n",
       "      <th>doc_id</th>\n",
       "      <th>document</th>\n",
       "      <th>cosine_similarity</th>\n",
       "    </tr>\n",
       "  </thead>\n",
       "  <tbody>\n",
       "    <tr>\n",
       "      <th>0</th>\n",
       "      <td>1</td>\n",
       "      <td>what similarity laws must be obeyed when const...</td>\n",
       "      <td>51</td>\n",
       "      <td>theory of aircraft structural models subjected...</td>\n",
       "      <td>0.289016</td>\n",
       "    </tr>\n",
       "    <tr>\n",
       "      <th>1</th>\n",
       "      <td>1</td>\n",
       "      <td>what similarity laws must be obeyed when const...</td>\n",
       "      <td>184</td>\n",
       "      <td>scale models for thermo-aeroelastic research ....</td>\n",
       "      <td>0.256686</td>\n",
       "    </tr>\n",
       "    <tr>\n",
       "      <th>2</th>\n",
       "      <td>1</td>\n",
       "      <td>what similarity laws must be obeyed when const...</td>\n",
       "      <td>12</td>\n",
       "      <td>some structural and aerelastic considerations ...</td>\n",
       "      <td>0.235732</td>\n",
       "    </tr>\n",
       "    <tr>\n",
       "      <th>3</th>\n",
       "      <td>1</td>\n",
       "      <td>what similarity laws must be obeyed when const...</td>\n",
       "      <td>359</td>\n",
       "      <td>note on the hypersonic similarity law for an u...</td>\n",
       "      <td>0.206559</td>\n",
       "    </tr>\n",
       "    <tr>\n",
       "      <th>4</th>\n",
       "      <td>1</td>\n",
       "      <td>what similarity laws must be obeyed when const...</td>\n",
       "      <td>746</td>\n",
       "      <td>aeroelastic problems in connection with high s...</td>\n",
       "      <td>0.206322</td>\n",
       "    </tr>\n",
       "    <tr>\n",
       "      <th>5</th>\n",
       "      <td>1</td>\n",
       "      <td>what similarity laws must be obeyed when const...</td>\n",
       "      <td>944</td>\n",
       "      <td>one dimensional heat conduction through the sk...</td>\n",
       "      <td>0.182174</td>\n",
       "    </tr>\n",
       "    <tr>\n",
       "      <th>6</th>\n",
       "      <td>1</td>\n",
       "      <td>what similarity laws must be obeyed when const...</td>\n",
       "      <td>56</td>\n",
       "      <td>an analysis of the applicability of the hypers...</td>\n",
       "      <td>0.176614</td>\n",
       "    </tr>\n",
       "    <tr>\n",
       "      <th>7</th>\n",
       "      <td>1</td>\n",
       "      <td>what similarity laws must be obeyed when const...</td>\n",
       "      <td>665</td>\n",
       "      <td>on the theory of hypersonic gas flow with a po...</td>\n",
       "      <td>0.167561</td>\n",
       "    </tr>\n",
       "    <tr>\n",
       "      <th>8</th>\n",
       "      <td>1</td>\n",
       "      <td>what similarity laws must be obeyed when const...</td>\n",
       "      <td>879</td>\n",
       "      <td>flutter model testing at transonic speeds .\\nf...</td>\n",
       "      <td>0.165972</td>\n",
       "    </tr>\n",
       "    <tr>\n",
       "      <th>9</th>\n",
       "      <td>1</td>\n",
       "      <td>what similarity laws must be obeyed when const...</td>\n",
       "      <td>878</td>\n",
       "      <td>experimental model techniques and equipment fo...</td>\n",
       "      <td>0.156237</td>\n",
       "    </tr>\n",
       "  </tbody>\n",
       "</table>\n",
       "</div>"
      ],
      "text/plain": [
       "   query_id                                              query  doc_id  \\\n",
       "0         1  what similarity laws must be obeyed when const...      51   \n",
       "1         1  what similarity laws must be obeyed when const...     184   \n",
       "2         1  what similarity laws must be obeyed when const...      12   \n",
       "3         1  what similarity laws must be obeyed when const...     359   \n",
       "4         1  what similarity laws must be obeyed when const...     746   \n",
       "5         1  what similarity laws must be obeyed when const...     944   \n",
       "6         1  what similarity laws must be obeyed when const...      56   \n",
       "7         1  what similarity laws must be obeyed when const...     665   \n",
       "8         1  what similarity laws must be obeyed when const...     879   \n",
       "9         1  what similarity laws must be obeyed when const...     878   \n",
       "\n",
       "                                            document  cosine_similarity  \n",
       "0  theory of aircraft structural models subjected...           0.289016  \n",
       "1  scale models for thermo-aeroelastic research ....           0.256686  \n",
       "2  some structural and aerelastic considerations ...           0.235732  \n",
       "3  note on the hypersonic similarity law for an u...           0.206559  \n",
       "4  aeroelastic problems in connection with high s...           0.206322  \n",
       "5  one dimensional heat conduction through the sk...           0.182174  \n",
       "6  an analysis of the applicability of the hypers...           0.176614  \n",
       "7  on the theory of hypersonic gas flow with a po...           0.167561  \n",
       "8  flutter model testing at transonic speeds .\\nf...           0.165972  \n",
       "9  experimental model techniques and equipment fo...           0.156237  "
      ]
     },
     "execution_count": 20,
     "metadata": {},
     "output_type": "execute_result"
    }
   ],
   "source": [
    "index_matrix = similarities.SparseMatrixSimilarity(corpus_tfidf_vectors, num_features= len(dictionary)) \n",
    "\n",
    "df1 = pd.DataFrame(columns=['query_id', 'query', 'doc_id', 'document', 'cosine_similarity'])\n",
    "# df1 = pd.DataFrame()\n",
    "for query_id, query in enumerate(qwery_file):\n",
    "    tokens_q = preprocess(query)\n",
    "    # Create a bow vector for a new document (for exmaple: a query)\n",
    "    query_bow_vector = dictionary.doc2bow(tokens_q)\n",
    "    # Calculate (compute) TF-IDF vector of the query\n",
    "    query_tfidf_vector = tfidf_model[query_bow_vector]\n",
    "\n",
    "    sims = index_matrix[query_tfidf_vector]\n",
    "    sims_id = list(enumerate(sims))\n",
    "    sims_id.sort(key=lambda tup: tup[1], reverse=True)\n",
    "\n",
    "    sims_id = [sim for sim in sims_id if sim[1] > 0.1]\n",
    "#     sims_id = sims_id[:10]\n",
    "    \n",
    "    length = len(sims_id)\n",
    "#     print(length)\n",
    "    d = { \n",
    "    'query_id'  : [ query_id+1 for _ in range(length) ], \n",
    "    'query'     : [ query for _ in range(length) ], \n",
    "    'doc_id'    : [ s[0]+1 for s in  sims_id ], \n",
    "    'document'  : [ documents[ s[0] ] for s in  sims_id ], \n",
    "    'cosine_similarity'   : [ s[1] for s in  sims_id ] \n",
    "    }\n",
    "\n",
    "    df2 = pd.DataFrame(d)\n",
    "    df1 = pd.concat([df1, df2], ignore_index=True)\n",
    "    \n",
    "df1 = df1.astype({\"query_id\": int, 'doc_id': int} )\n",
    "# df1.to_csv(home + 'result.csv', index=False)\n",
    "df1[0:10]"
   ]
  },
  {
   "cell_type": "code",
   "execution_count": 21,
   "metadata": {},
   "outputs": [
    {
     "data": {
      "text/plain": [
       "162    202\n",
       "217    199\n",
       "161    192\n",
       "157    180\n",
       "58     179\n",
       "      ... \n",
       "19      11\n",
       "128     10\n",
       "204      9\n",
       "115      8\n",
       "44       5\n",
       "Name: query_id, Length: 225, dtype: int64"
      ]
     },
     "execution_count": 21,
     "metadata": {},
     "output_type": "execute_result"
    }
   ],
   "source": [
    "df1['query_id'].value_counts()"
   ]
  },
  {
   "cell_type": "markdown",
   "metadata": {},
   "source": [
    "## Clalcule F-score"
   ]
  },
  {
   "cell_type": "code",
   "execution_count": 22,
   "metadata": {},
   "outputs": [
    {
     "data": {
      "text/html": [
       "<div>\n",
       "<style scoped>\n",
       "    .dataframe tbody tr th:only-of-type {\n",
       "        vertical-align: middle;\n",
       "    }\n",
       "\n",
       "    .dataframe tbody tr th {\n",
       "        vertical-align: top;\n",
       "    }\n",
       "\n",
       "    .dataframe thead th {\n",
       "        text-align: right;\n",
       "    }\n",
       "</style>\n",
       "<table border=\"1\" class=\"dataframe\">\n",
       "  <thead>\n",
       "    <tr style=\"text-align: right;\">\n",
       "      <th></th>\n",
       "      <th>query_id</th>\n",
       "      <th>doc_id</th>\n",
       "    </tr>\n",
       "  </thead>\n",
       "  <tbody>\n",
       "    <tr>\n",
       "      <th>0</th>\n",
       "      <td>1</td>\n",
       "      <td>184</td>\n",
       "    </tr>\n",
       "    <tr>\n",
       "      <th>1</th>\n",
       "      <td>1</td>\n",
       "      <td>29</td>\n",
       "    </tr>\n",
       "    <tr>\n",
       "      <th>2</th>\n",
       "      <td>1</td>\n",
       "      <td>31</td>\n",
       "    </tr>\n",
       "    <tr>\n",
       "      <th>3</th>\n",
       "      <td>1</td>\n",
       "      <td>12</td>\n",
       "    </tr>\n",
       "    <tr>\n",
       "      <th>4</th>\n",
       "      <td>1</td>\n",
       "      <td>51</td>\n",
       "    </tr>\n",
       "    <tr>\n",
       "      <th>...</th>\n",
       "      <td>...</td>\n",
       "      <td>...</td>\n",
       "    </tr>\n",
       "    <tr>\n",
       "      <th>1832</th>\n",
       "      <td>225</td>\n",
       "      <td>1062</td>\n",
       "    </tr>\n",
       "    <tr>\n",
       "      <th>1833</th>\n",
       "      <td>225</td>\n",
       "      <td>1074</td>\n",
       "    </tr>\n",
       "    <tr>\n",
       "      <th>1834</th>\n",
       "      <td>225</td>\n",
       "      <td>1075</td>\n",
       "    </tr>\n",
       "    <tr>\n",
       "      <th>1835</th>\n",
       "      <td>225</td>\n",
       "      <td>1213</td>\n",
       "    </tr>\n",
       "    <tr>\n",
       "      <th>1836</th>\n",
       "      <td>225</td>\n",
       "      <td>1188</td>\n",
       "    </tr>\n",
       "  </tbody>\n",
       "</table>\n",
       "<p>1837 rows × 2 columns</p>\n",
       "</div>"
      ],
      "text/plain": [
       "      query_id  doc_id\n",
       "0            1     184\n",
       "1            1      29\n",
       "2            1      31\n",
       "3            1      12\n",
       "4            1      51\n",
       "...        ...     ...\n",
       "1832       225    1062\n",
       "1833       225    1074\n",
       "1834       225    1075\n",
       "1835       225    1213\n",
       "1836       225    1188\n",
       "\n",
       "[1837 rows x 2 columns]"
      ]
     },
     "execution_count": 22,
     "metadata": {},
     "output_type": "execute_result"
    }
   ],
   "source": [
    "qwery_id = []\n",
    "doc_id = []\n",
    "with open(home + 'cran/cranqrel','r') as file :\n",
    "    qrel_file = file.readlines()\n",
    "for ligne in qrel_file:\n",
    "#     print(ligne)\n",
    "    ligne = ligne.split(' ')\n",
    "    qwery_id.append(ligne[0])\n",
    "    doc_id.append(ligne[1])\n",
    "\n",
    "df2 = pd.DataFrame({'query_id':qwery_id, 'doc_id':doc_id})\n",
    "df2 = df2.astype({\"query_id\": int, 'doc_id': int} )\n",
    "\n",
    "# df2.dtypes\n",
    "df2\n",
    "# df2[ df2['query_id'] == 1 ]\n"
   ]
  },
  {
   "cell_type": "code",
   "execution_count": 23,
   "metadata": {},
   "outputs": [
    {
     "data": {
      "text/plain": [
       "157    40\n",
       "23     33\n",
       "1      29\n",
       "2      25\n",
       "225    25\n",
       "       ..\n",
       "93      2\n",
       "142     2\n",
       "22      2\n",
       "216     2\n",
       "119     2\n",
       "Name: query_id, Length: 225, dtype: int64"
      ]
     },
     "execution_count": 23,
     "metadata": {},
     "output_type": "execute_result"
    }
   ],
   "source": [
    "df2['query_id'].value_counts()"
   ]
  },
  {
   "cell_type": "code",
   "execution_count": 24,
   "metadata": {},
   "outputs": [
    {
     "data": {
      "text/html": [
       "<div>\n",
       "<style scoped>\n",
       "    .dataframe tbody tr th:only-of-type {\n",
       "        vertical-align: middle;\n",
       "    }\n",
       "\n",
       "    .dataframe tbody tr th {\n",
       "        vertical-align: top;\n",
       "    }\n",
       "\n",
       "    .dataframe thead th {\n",
       "        text-align: right;\n",
       "    }\n",
       "</style>\n",
       "<table border=\"1\" class=\"dataframe\">\n",
       "  <thead>\n",
       "    <tr style=\"text-align: right;\">\n",
       "      <th></th>\n",
       "      <th>query_id</th>\n",
       "      <th>doc_id</th>\n",
       "    </tr>\n",
       "  </thead>\n",
       "  <tbody>\n",
       "    <tr>\n",
       "      <th>0</th>\n",
       "      <td>1</td>\n",
       "      <td>51</td>\n",
       "    </tr>\n",
       "    <tr>\n",
       "      <th>1</th>\n",
       "      <td>1</td>\n",
       "      <td>184</td>\n",
       "    </tr>\n",
       "    <tr>\n",
       "      <th>2</th>\n",
       "      <td>1</td>\n",
       "      <td>12</td>\n",
       "    </tr>\n",
       "    <tr>\n",
       "      <th>3</th>\n",
       "      <td>1</td>\n",
       "      <td>56</td>\n",
       "    </tr>\n",
       "    <tr>\n",
       "      <th>4</th>\n",
       "      <td>1</td>\n",
       "      <td>879</td>\n",
       "    </tr>\n",
       "    <tr>\n",
       "      <th>...</th>\n",
       "      <td>...</td>\n",
       "      <td>...</td>\n",
       "    </tr>\n",
       "    <tr>\n",
       "      <th>1232</th>\n",
       "      <td>225</td>\n",
       "      <td>1380</td>\n",
       "    </tr>\n",
       "    <tr>\n",
       "      <th>1233</th>\n",
       "      <td>225</td>\n",
       "      <td>1188</td>\n",
       "    </tr>\n",
       "    <tr>\n",
       "      <th>1234</th>\n",
       "      <td>225</td>\n",
       "      <td>1124</td>\n",
       "    </tr>\n",
       "    <tr>\n",
       "      <th>1235</th>\n",
       "      <td>225</td>\n",
       "      <td>225</td>\n",
       "    </tr>\n",
       "    <tr>\n",
       "      <th>1236</th>\n",
       "      <td>225</td>\n",
       "      <td>1381</td>\n",
       "    </tr>\n",
       "  </tbody>\n",
       "</table>\n",
       "<p>1237 rows × 2 columns</p>\n",
       "</div>"
      ],
      "text/plain": [
       "      query_id  doc_id\n",
       "0            1      51\n",
       "1            1     184\n",
       "2            1      12\n",
       "3            1      56\n",
       "4            1     879\n",
       "...        ...     ...\n",
       "1232       225    1380\n",
       "1233       225    1188\n",
       "1234       225    1124\n",
       "1235       225     225\n",
       "1236       225    1381\n",
       "\n",
       "[1237 rows x 2 columns]"
      ]
     },
     "execution_count": 24,
     "metadata": {},
     "output_type": "execute_result"
    }
   ],
   "source": [
    "TP = pd.merge(df1[['query_id','doc_id']], df2)\n",
    "TP"
   ]
  },
  {
   "cell_type": "code",
   "execution_count": 25,
   "metadata": {
    "scrolled": false
   },
   "outputs": [],
   "source": [
    "recall =  [ len(TP[TP['query_id']== i]) / len(df2[ df2['query_id'] == i ]) for i in df2['query_id'].unique()]\n",
    "# recall"
   ]
  },
  {
   "cell_type": "code",
   "execution_count": 26,
   "metadata": {},
   "outputs": [],
   "source": [
    "precision = [ len(TP[TP['query_id']== i]) / len(df1[ df1['query_id'] == 1])  for i in df2['query_id'].unique()]\n",
    "# precision"
   ]
  },
  {
   "cell_type": "code",
   "execution_count": 27,
   "metadata": {},
   "outputs": [
    {
     "name": "stderr",
     "output_type": "stream",
     "text": [
      "C:\\Python\\Python37\\lib\\site-packages\\ipykernel_launcher.py:1: RuntimeWarning: divide by zero encountered in true_divide\n",
      "  \"\"\"Entry point for launching an IPython kernel.\n"
     ]
    }
   ],
   "source": [
    "f_score = 2/( 1 / np.array(precision) + 1 / np.array(recall) )\n",
    "# f_score"
   ]
  },
  {
   "cell_type": "code",
   "execution_count": 28,
   "metadata": {},
   "outputs": [
    {
     "data": {
      "text/plain": [
       "225"
      ]
     },
     "execution_count": 28,
     "metadata": {},
     "output_type": "execute_result"
    }
   ],
   "source": [
    "len(df1['query_id'].unique())"
   ]
  },
  {
   "cell_type": "code",
   "execution_count": 29,
   "metadata": {},
   "outputs": [
    {
     "data": {
      "text/html": [
       "<div>\n",
       "<style scoped>\n",
       "    .dataframe tbody tr th:only-of-type {\n",
       "        vertical-align: middle;\n",
       "    }\n",
       "\n",
       "    .dataframe tbody tr th {\n",
       "        vertical-align: top;\n",
       "    }\n",
       "\n",
       "    .dataframe thead th {\n",
       "        text-align: right;\n",
       "    }\n",
       "</style>\n",
       "<table border=\"1\" class=\"dataframe\">\n",
       "  <thead>\n",
       "    <tr style=\"text-align: right;\">\n",
       "      <th></th>\n",
       "      <th>query_id</th>\n",
       "      <th>query</th>\n",
       "      <th>precision</th>\n",
       "      <th>recall</th>\n",
       "      <th>f_score</th>\n",
       "    </tr>\n",
       "  </thead>\n",
       "  <tbody>\n",
       "    <tr>\n",
       "      <th>0</th>\n",
       "      <td>1</td>\n",
       "      <td>what similarity laws must be obeyed when const...</td>\n",
       "      <td>0.310345</td>\n",
       "      <td>0.310345</td>\n",
       "      <td>0.310345</td>\n",
       "    </tr>\n",
       "    <tr>\n",
       "      <th>1</th>\n",
       "      <td>2</td>\n",
       "      <td>what are the structural and aeroelastic proble...</td>\n",
       "      <td>0.241379</td>\n",
       "      <td>0.280000</td>\n",
       "      <td>0.259259</td>\n",
       "    </tr>\n",
       "    <tr>\n",
       "      <th>2</th>\n",
       "      <td>3</td>\n",
       "      <td>what problems of heat conduction in composite ...</td>\n",
       "      <td>0.275862</td>\n",
       "      <td>0.888889</td>\n",
       "      <td>0.421053</td>\n",
       "    </tr>\n",
       "    <tr>\n",
       "      <th>3</th>\n",
       "      <td>4</td>\n",
       "      <td>can a criterion be developed to show empirical...</td>\n",
       "      <td>0.103448</td>\n",
       "      <td>1.000000</td>\n",
       "      <td>0.187500</td>\n",
       "    </tr>\n",
       "    <tr>\n",
       "      <th>4</th>\n",
       "      <td>5</td>\n",
       "      <td>what chemical kinetic system is applicable to ...</td>\n",
       "      <td>0.137931</td>\n",
       "      <td>0.800000</td>\n",
       "      <td>0.235294</td>\n",
       "    </tr>\n",
       "    <tr>\n",
       "      <th>5</th>\n",
       "      <td>6</td>\n",
       "      <td>what theoretical and experimental guides do we...</td>\n",
       "      <td>0.103448</td>\n",
       "      <td>0.600000</td>\n",
       "      <td>0.176471</td>\n",
       "    </tr>\n",
       "    <tr>\n",
       "      <th>6</th>\n",
       "      <td>7</td>\n",
       "      <td>is it possible to relate the available pressur...</td>\n",
       "      <td>0.137931</td>\n",
       "      <td>0.666667</td>\n",
       "      <td>0.228571</td>\n",
       "    </tr>\n",
       "    <tr>\n",
       "      <th>7</th>\n",
       "      <td>8</td>\n",
       "      <td>what methods -dash exact or approximate -dash ...</td>\n",
       "      <td>0.206897</td>\n",
       "      <td>0.500000</td>\n",
       "      <td>0.292683</td>\n",
       "    </tr>\n",
       "    <tr>\n",
       "      <th>8</th>\n",
       "      <td>9</td>\n",
       "      <td>papers on internal /slip flow/ heat transfer s...</td>\n",
       "      <td>0.137931</td>\n",
       "      <td>1.000000</td>\n",
       "      <td>0.242424</td>\n",
       "    </tr>\n",
       "    <tr>\n",
       "      <th>9</th>\n",
       "      <td>10</td>\n",
       "      <td>are real-gas transport properties for air avai...</td>\n",
       "      <td>0.137931</td>\n",
       "      <td>0.444444</td>\n",
       "      <td>0.210526</td>\n",
       "    </tr>\n",
       "  </tbody>\n",
       "</table>\n",
       "</div>"
      ],
      "text/plain": [
       "   query_id                                              query  precision  \\\n",
       "0         1  what similarity laws must be obeyed when const...   0.310345   \n",
       "1         2  what are the structural and aeroelastic proble...   0.241379   \n",
       "2         3  what problems of heat conduction in composite ...   0.275862   \n",
       "3         4  can a criterion be developed to show empirical...   0.103448   \n",
       "4         5  what chemical kinetic system is applicable to ...   0.137931   \n",
       "5         6  what theoretical and experimental guides do we...   0.103448   \n",
       "6         7  is it possible to relate the available pressur...   0.137931   \n",
       "7         8  what methods -dash exact or approximate -dash ...   0.206897   \n",
       "8         9  papers on internal /slip flow/ heat transfer s...   0.137931   \n",
       "9        10  are real-gas transport properties for air avai...   0.137931   \n",
       "\n",
       "     recall   f_score  \n",
       "0  0.310345  0.310345  \n",
       "1  0.280000  0.259259  \n",
       "2  0.888889  0.421053  \n",
       "3  1.000000  0.187500  \n",
       "4  0.800000  0.235294  \n",
       "5  0.600000  0.176471  \n",
       "6  0.666667  0.228571  \n",
       "7  0.500000  0.292683  \n",
       "8  1.000000  0.242424  \n",
       "9  0.444444  0.210526  "
      ]
     },
     "execution_count": 29,
     "metadata": {},
     "output_type": "execute_result"
    }
   ],
   "source": [
    "score_df = pd.DataFrame({'query_id' : list(range(1, 226)), 'query': df1['query'].unique(), \n",
    "                         'precision' : precision, 'recall' : recall, 'f_score' : f_score})\n",
    "score_df[0:10]"
   ]
  },
  {
   "cell_type": "code",
   "execution_count": null,
   "metadata": {},
   "outputs": [],
   "source": []
  },
  {
   "cell_type": "markdown",
   "metadata": {},
   "source": [
    "## Running LDA using Bag of Words\n",
    "\n",
    "Train our lda model using gensim.models.LdaMulticore and save it to ‘lda_model’"
   ]
  },
  {
   "cell_type": "code",
   "execution_count": 35,
   "metadata": {},
   "outputs": [],
   "source": [
    "lda_model = gensim.models.LdaMulticore(corpus_doc2bow_vectors, num_topics=10, id2word=dictionary, passes=2, workers=2)"
   ]
  },
  {
   "cell_type": "markdown",
   "metadata": {},
   "source": [
    "For each topic, we will explore the words occuring in that topic and its relative weight."
   ]
  },
  {
   "cell_type": "code",
   "execution_count": 36,
   "metadata": {},
   "outputs": [
    {
     "name": "stdout",
     "output_type": "stream",
     "text": [
      "Topic: 0 \n",
      "Words: 0.022*\"layer\" + 0.021*\"flow\" + 0.020*\"boundari\" + 0.019*\"heat\" + 0.013*\"transfer\" + 0.011*\"pressur\" + 0.010*\"number\" + 0.009*\"shock\" + 0.009*\"equat\" + 0.009*\"result\"\n",
      "Topic: 1 \n",
      "Words: 0.029*\"wing\" + 0.020*\"bodi\" + 0.015*\"effect\" + 0.015*\"number\" + 0.014*\"lift\" + 0.013*\"mach\" + 0.010*\"speed\" + 0.010*\"flow\" + 0.009*\"ratio\" + 0.009*\"theori\"\n",
      "Topic: 2 \n",
      "Words: 0.022*\"pressur\" + 0.013*\"shock\" + 0.012*\"flow\" + 0.012*\"number\" + 0.012*\"bodi\" + 0.012*\"cylind\" + 0.009*\"wave\" + 0.009*\"mach\" + 0.009*\"surfac\" + 0.008*\"result\"\n",
      "Topic: 3 \n",
      "Words: 0.017*\"number\" + 0.017*\"pressur\" + 0.011*\"result\" + 0.010*\"mach\" + 0.010*\"turbul\" + 0.010*\"angl\" + 0.010*\"theori\" + 0.009*\"method\" + 0.008*\"valu\" + 0.008*\"reynold\"\n",
      "Topic: 4 \n",
      "Words: 0.015*\"pressur\" + 0.011*\"result\" + 0.011*\"buckl\" + 0.011*\"stress\" + 0.010*\"number\" + 0.010*\"flow\" + 0.009*\"load\" + 0.009*\"theori\" + 0.009*\"distribut\" + 0.008*\"panel\"\n",
      "Topic: 5 \n",
      "Words: 0.019*\"flow\" + 0.017*\"pressur\" + 0.014*\"number\" + 0.010*\"result\" + 0.010*\"ga\" + 0.010*\"effect\" + 0.010*\"layer\" + 0.010*\"boundari\" + 0.008*\"shock\" + 0.008*\"air\"\n",
      "Topic: 6 \n",
      "Words: 0.022*\"flow\" + 0.014*\"jet\" + 0.010*\"solut\" + 0.010*\"theori\" + 0.010*\"wave\" + 0.009*\"method\" + 0.008*\"obtain\" + 0.008*\"result\" + 0.008*\"shock\" + 0.008*\"number\"\n",
      "Topic: 7 \n",
      "Words: 0.012*\"wing\" + 0.011*\"cylind\" + 0.010*\"aerodynam\" + 0.010*\"buckl\" + 0.009*\"test\" + 0.009*\"flow\" + 0.009*\"edg\" + 0.009*\"method\" + 0.009*\"number\" + 0.008*\"flutter\"\n",
      "Topic: 8 \n",
      "Words: 0.017*\"solut\" + 0.016*\"method\" + 0.015*\"flow\" + 0.013*\"load\" + 0.013*\"equat\" + 0.007*\"bodi\" + 0.007*\"case\" + 0.007*\"boundari\" + 0.007*\"temperatur\" + 0.006*\"result\"\n",
      "Topic: 9 \n",
      "Words: 0.029*\"flow\" + 0.016*\"boundari\" + 0.014*\"solut\" + 0.013*\"layer\" + 0.011*\"veloc\" + 0.010*\"plate\" + 0.009*\"theori\" + 0.009*\"give\" + 0.009*\"temperatur\" + 0.009*\"problem\"\n"
     ]
    }
   ],
   "source": [
    "for idx, topic in lda_model.print_topics(-1):\n",
    "    print('Topic: {} \\nWords: {}'.format(idx, topic))"
   ]
  },
  {
   "cell_type": "markdown",
   "metadata": {},
   "source": [
    "### Distinguish between different topics using the words in each topic and the corresponding weights\n",
    "\n",
    "## Running LDA using TF-IDF"
   ]
  },
  {
   "cell_type": "code",
   "execution_count": 38,
   "metadata": {},
   "outputs": [
    {
     "name": "stdout",
     "output_type": "stream",
     "text": [
      "Topic: 0 Word: 0.012*\"jet\" + 0.006*\"inject\" + 0.006*\"nozzl\" + 0.005*\"layer\" + 0.005*\"compressor\" + 0.005*\"shock\" + 0.005*\"boundari\" + 0.005*\"pressur\" + 0.004*\"veloc\" + 0.004*\"ga\"\n",
      "Topic: 1 Word: 0.009*\"wing\" + 0.009*\"jet\" + 0.006*\"blade\" + 0.006*\"lift\" + 0.005*\"method\" + 0.005*\"impel\" + 0.004*\"pressur\" + 0.004*\"load\" + 0.004*\"integr\" + 0.004*\"function\"\n",
      "Topic: 2 Word: 0.009*\"jet\" + 0.006*\"mix\" + 0.005*\"function\" + 0.004*\"veloc\" + 0.004*\"flow\" + 0.004*\"number\" + 0.004*\"temperatur\" + 0.004*\"pressur\" + 0.003*\"equat\" + 0.003*\"wing\"\n",
      "Topic: 3 Word: 0.006*\"panel\" + 0.006*\"drag\" + 0.006*\"bodi\" + 0.006*\"lift\" + 0.005*\"wing\" + 0.004*\"edg\" + 0.004*\"ratio\" + 0.004*\"angl\" + 0.004*\"method\" + 0.004*\"equat\"\n",
      "Topic: 4 Word: 0.006*\"bodi\" + 0.006*\"shock\" + 0.006*\"flow\" + 0.005*\"wave\" + 0.005*\"pressur\" + 0.005*\"model\" + 0.005*\"blunt\" + 0.005*\"flutter\" + 0.005*\"nose\" + 0.005*\"boundari\"\n",
      "Topic: 5 Word: 0.010*\"bodi\" + 0.007*\"thermal\" + 0.006*\"angl\" + 0.006*\"heat\" + 0.005*\"nose\" + 0.005*\"cylind\" + 0.004*\"stress\" + 0.004*\"temperatur\" + 0.004*\"attack\" + 0.004*\"base\"\n",
      "Topic: 6 Word: 0.011*\"shock\" + 0.008*\"flutter\" + 0.006*\"heat\" + 0.006*\"wing\" + 0.006*\"number\" + 0.005*\"mach\" + 0.005*\"temperatur\" + 0.005*\"panel\" + 0.005*\"transfer\" + 0.005*\"layer\"\n",
      "Topic: 7 Word: 0.011*\"layer\" + 0.010*\"boundari\" + 0.008*\"rough\" + 0.007*\"plate\" + 0.007*\"transit\" + 0.007*\"laminar\" + 0.006*\"solut\" + 0.006*\"flow\" + 0.006*\"turbul\" + 0.006*\"heat\"\n",
      "Topic: 8 Word: 0.010*\"buckl\" + 0.007*\"shell\" + 0.007*\"creep\" + 0.006*\"load\" + 0.006*\"column\" + 0.005*\"stress\" + 0.005*\"shear\" + 0.005*\"stiffen\" + 0.004*\"cylind\" + 0.004*\"bodi\"\n",
      "Topic: 9 Word: 0.012*\"wing\" + 0.006*\"edg\" + 0.005*\"flow\" + 0.005*\"shell\" + 0.005*\"sweep\" + 0.005*\"lead\" + 0.004*\"method\" + 0.004*\"aspect\" + 0.004*\"pressur\" + 0.004*\"deriv\"\n"
     ]
    }
   ],
   "source": [
    "lda_model_tfidf = gensim.models.LdaMulticore(corpus_tfidf_vectors, num_topics=10, id2word=dictionary, passes=2, workers=4)\n",
    "for idx, topic in lda_model_tfidf.print_topics(-1):\n",
    "    print('Topic: {} Word: {}'.format(idx, topic))"
   ]
  },
  {
   "cell_type": "markdown",
   "metadata": {},
   "source": [
    "## Classification of the topics\n",
    "\n",
    "### Performance evaluation by classifying sample document using LDA Bag of Words model\n",
    "\n",
    "We will check where our test document would be classified.\n"
   ]
  },
  {
   "cell_type": "code",
   "execution_count": 40,
   "metadata": {},
   "outputs": [
    {
     "name": "stdout",
     "output_type": "stream",
     "text": [
      "\n",
      "Score: 0.9210923910140991\t \n",
      "Topic: 0.029*\"flow\" + 0.016*\"boundari\" + 0.014*\"solut\" + 0.013*\"layer\" + 0.011*\"veloc\" + 0.010*\"plate\" + 0.009*\"theori\" + 0.009*\"give\" + 0.009*\"temperatur\" + 0.009*\"problem\"\n",
      "\n",
      "Score: 0.07188712805509567\t \n",
      "Topic: 0.022*\"layer\" + 0.021*\"flow\" + 0.020*\"boundari\" + 0.019*\"heat\" + 0.013*\"transfer\" + 0.011*\"pressur\" + 0.010*\"number\" + 0.009*\"shock\" + 0.009*\"equat\" + 0.009*\"result\"\n"
     ]
    }
   ],
   "source": [
    "for index, score in sorted(lda_model[corpus_doc2bow_vectors[1]], key=lambda tup: -1*tup[1]):\n",
    "    print(\"\\nScore: {}\\t \\nTopic: {}\".format(score, lda_model.print_topic(index, 10)))"
   ]
  },
  {
   "cell_type": "markdown",
   "metadata": {},
   "source": [
    "Our test document has the highest probability to be part of the topic that our model assigned, which is the accurate classification.\n",
    "\n",
    "</br>\n",
    "\n",
    "### Performance evaluation by classifying sample document using LDA TF-IDF model."
   ]
  },
  {
   "cell_type": "code",
   "execution_count": 41,
   "metadata": {},
   "outputs": [
    {
     "name": "stdout",
     "output_type": "stream",
     "text": [
      "\n",
      "Score: 0.992102324962616\t \n",
      "Topic: 0.011*\"layer\" + 0.010*\"boundari\" + 0.008*\"rough\" + 0.007*\"plate\" + 0.007*\"transit\" + 0.007*\"laminar\" + 0.006*\"solut\" + 0.006*\"flow\" + 0.006*\"turbul\" + 0.006*\"heat\"\n"
     ]
    }
   ],
   "source": [
    "for index, score in sorted(lda_model_tfidf[corpus_doc2bow_vectors[1]], key=lambda tup: -1*tup[1]):\n",
    "    print(\"\\nScore: {}\\t \\nTopic: {}\".format(score, lda_model_tfidf.print_topic(index, 10)))"
   ]
  },
  {
   "cell_type": "markdown",
   "metadata": {},
   "source": [
    "Our test document has the highest probability to be part of the topic that our model assigned, which is the accurate classification.\n",
    "\n",
    "</br>\n",
    "\n",
    "### Testing model on unseen document"
   ]
  },
  {
   "cell_type": "code",
   "execution_count": 42,
   "metadata": {},
   "outputs": [
    {
     "name": "stdout",
     "output_type": "stream",
     "text": [
      "Score: 0.6998445391654968\t Topic: 0.017*\"number\" + 0.017*\"pressur\" + 0.011*\"result\" + 0.010*\"mach\" + 0.010*\"turbul\"\n",
      "Score: 0.03335707634687424\t Topic: 0.029*\"flow\" + 0.016*\"boundari\" + 0.014*\"solut\" + 0.013*\"layer\" + 0.011*\"veloc\"\n",
      "Score: 0.033356282860040665\t Topic: 0.029*\"wing\" + 0.020*\"bodi\" + 0.015*\"effect\" + 0.015*\"number\" + 0.014*\"lift\"\n",
      "Score: 0.033352330327034\t Topic: 0.017*\"solut\" + 0.016*\"method\" + 0.015*\"flow\" + 0.013*\"load\" + 0.013*\"equat\"\n",
      "Score: 0.0333501398563385\t Topic: 0.022*\"flow\" + 0.014*\"jet\" + 0.010*\"solut\" + 0.010*\"theori\" + 0.010*\"wave\"\n",
      "Score: 0.03334958851337433\t Topic: 0.022*\"pressur\" + 0.013*\"shock\" + 0.012*\"flow\" + 0.012*\"number\" + 0.012*\"bodi\"\n",
      "Score: 0.033349525183439255\t Topic: 0.019*\"flow\" + 0.017*\"pressur\" + 0.014*\"number\" + 0.010*\"result\" + 0.010*\"ga\"\n",
      "Score: 0.03334914520382881\t Topic: 0.015*\"pressur\" + 0.011*\"result\" + 0.011*\"buckl\" + 0.011*\"stress\" + 0.010*\"number\"\n",
      "Score: 0.033347029238939285\t Topic: 0.022*\"layer\" + 0.021*\"flow\" + 0.020*\"boundari\" + 0.019*\"heat\" + 0.013*\"transfer\"\n",
      "Score: 0.03334438055753708\t Topic: 0.012*\"wing\" + 0.011*\"cylind\" + 0.010*\"aerodynam\" + 0.010*\"buckl\" + 0.009*\"test\"\n"
     ]
    }
   ],
   "source": [
    "unseen_document = 'How a Pentagon deal became an identity crisis for Google'\n",
    "bow_vector = dictionary.doc2bow(preprocess(unseen_document))\n",
    "for index, score in sorted(lda_model[bow_vector], key=lambda tup: -1*tup[1]):\n",
    "    print(\"Score: {}\\t Topic: {}\".format(score, lda_model.print_topic(index, 5)))"
   ]
  },
  {
   "cell_type": "markdown",
   "metadata": {},
   "source": [
    "https://towardsdatascience.com/topic-modeling-and-latent-dirichlet-allocation-in-python-9bf156893c24\n",
    "\n",
    "https://github.com/susanli2016/NLP-with-Python/blob/master/LDA_news_headlines.ipynb\n"
   ]
  },
  {
   "cell_type": "code",
   "execution_count": null,
   "metadata": {},
   "outputs": [],
   "source": []
  }
 ],
 "metadata": {
  "file_extension": ".py",
  "kernelspec": {
   "display_name": "Python 3",
   "language": "python",
   "name": "python3"
  },
  "language_info": {
   "codemirror_mode": {
    "name": "ipython",
    "version": 3
   },
   "file_extension": ".py",
   "mimetype": "text/x-python",
   "name": "python",
   "nbconvert_exporter": "python",
   "pygments_lexer": "ipython3",
   "version": "3.7.5"
  },
  "mimetype": "text/x-python",
  "name": "python",
  "npconvert_exporter": "python",
  "pygments_lexer": "ipython3",
  "version": 3
 },
 "nbformat": 4,
 "nbformat_minor": 2
}
